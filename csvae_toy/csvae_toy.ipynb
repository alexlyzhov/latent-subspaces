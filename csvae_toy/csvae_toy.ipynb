{
 "cells": [
  {
   "cell_type": "code",
   "execution_count": 2,
   "metadata": {},
   "outputs": [],
   "source": [
    "import torch\n",
    "from torch import nn\n",
    "from torch.distributions.multivariate_normal import MultivariateNormal\n",
    "import torch.nn.functional as F\n",
    "import torch.optim as optim\n",
    "import torch.distributions as dists\n",
    "import torch.utils.data as utils\n",
    "from torch.utils.data import DataLoader, Dataset\n",
    "import numpy as np\n",
    "import pandas as pd\n",
    "import os\n",
    "import sys\n",
    "import time\n",
    "from collections import defaultdict\n",
    "from datetime import datetime\n",
    "import matplotlib.pyplot as plt\n",
    "from sklearn.datasets import make_swiss_roll\n",
    "from tqdm import tqdm, trange\n",
    "import matplotlib.pyplot as plt\n",
    "%matplotlib inline"
   ]
  },
  {
   "cell_type": "code",
   "execution_count": 219,
   "metadata": {},
   "outputs": [],
   "source": [
    "class CSVAE(nn.Module):\n",
    "    def __init__(self, input_dim, labels_dim, z_dim, w_dim):\n",
    "        super(CSVAE, self).__init__()\n",
    "        self.input_dim = input_dim\n",
    "        self.labels_dim = labels_dim\n",
    "        self.z_dim = z_dim\n",
    "        self.w_dim = w_dim\n",
    "        \n",
    "        self.encoder_xy_to_w = nn.Sequential(nn.Linear(input_dim+labels_dim, w_dim), nn.ReLU(), nn.Linear(w_dim, w_dim), nn.ReLU())\n",
    "        self.mu_xy_to_w = nn.Linear(w_dim, w_dim)\n",
    "        self.logvar_xy_to_w = nn.Linear(w_dim, w_dim)\n",
    "        \n",
    "        self.encoder_x_to_z = nn.Sequential(nn.Linear(input_dim, z_dim), nn.ReLU(), nn.Linear(z_dim, z_dim), nn.ReLU())\n",
    "        self.mu_x_to_z = nn.Linear(z_dim, z_dim)\n",
    "        self.logvar_x_to_z = nn.Linear(z_dim, z_dim)\n",
    "        \n",
    "        self.encoder_y_to_w = nn.Sequential(nn.Linear(labels_dim, w_dim), nn.ReLU(), nn.Linear(w_dim, w_dim), nn.ReLU())\n",
    "        self.mu_y_to_w = nn.Linear(w_dim, w_dim)\n",
    "        self.logvar_y_to_w = nn.Linear(w_dim, w_dim)\n",
    "        \n",
    "        # Add sigmoid or smth for images!\n",
    "        self.decoder_zw_to_x = nn.Sequential(nn.Linear(z_dim+w_dim, z_dim+w_dim), nn.ReLU(), nn.Linear(z_dim+w_dim, z_dim+w_dim), nn.ReLU())\n",
    "        self.mu_zw_to_x = nn.Linear(z_dim+w_dim, input_dim)\n",
    "        self.logvar_zw_to_x = nn.Linear(z_dim+w_dim, input_dim)\n",
    "\n",
    "        self.init_params()\n",
    "\n",
    "    def init_params(self):\n",
    "        for m in self.modules():\n",
    "            if isinstance(m, nn.Linear) or isinstance(m, nn.Conv2d) or isinstance(m, nn.ConvTranspose2d):\n",
    "                nn.init.xavier_normal_(m.weight.data)\n",
    "        \n",
    "    def q_zw(self, x, y):\n",
    "        \"\"\"\n",
    "        VARIATIONAL POSTERIOR\n",
    "        :param x: input image\n",
    "        :return: parameters of q(z|x), (MB, hid_dim)\n",
    "        \"\"\"\n",
    "        xy = torch.cat([x, y], dim=1)\n",
    "        \n",
    "        intermediate = self.encoder_x_to_z(x)\n",
    "        z_mu = self.mu_x_to_z(intermediate)\n",
    "        z_logvar = self.mu_x_to_z(intermediate)\n",
    "        \n",
    "        intermediate = self.encoder_xy_to_w(xy)\n",
    "        w_mu_encoder = self.mu_xy_to_w(intermediate)\n",
    "        w_logvar_encoder = self.mu_xy_to_w(intermediate)\n",
    "        \n",
    "        intermediate = self.encoder_y_to_w(y)\n",
    "        w_mu_prior = self.mu_y_to_w(intermediate)\n",
    "        w_logvar_prior = self.mu_y_to_w(intermediate)\n",
    "        \n",
    "        return w_mu_encoder, w_logvar_encoder, w_mu_prior, \\\n",
    "               w_logvar_prior, z_mu, z_logvar\n",
    "    \n",
    "    def p_x(self, z, w):\n",
    "        \"\"\"\n",
    "        GENERATIVE DISTRIBUTION\n",
    "        :param z: latent vector          (MB, hid_dim)\n",
    "        :return: parameters of p(x|z)    (MB, inp_dim)\n",
    "        \"\"\"\n",
    "        \n",
    "        zw = torch.cat([z, w], dim=1)\n",
    "        \n",
    "        intermediate = self.decoder_zw_to_x(zw)\n",
    "        mu = self.mu_zw_to_x(intermediate)\n",
    "        logvar = self.logvar_zw_to_x(intermediate)\n",
    "        \n",
    "        return mu, logvar\n",
    "\n",
    "    def forward(self, x, y):\n",
    "        \"\"\"\n",
    "        Encode the image, sample z and decode \n",
    "        :param x: input image\n",
    "        :return: parameters of p(x|z_hat), z_hat, parameters of q(z|x)\n",
    "        \"\"\"\n",
    "        w_mu_encoder, w_logvar_encoder, w_mu_prior, \\\n",
    "            w_logvar_prior, z_mu, z_logvar = self.q_zw(x, y)\n",
    "        w_encoder = self.reparameterize(w_mu_encoder, w_logvar_encoder)\n",
    "        w_prior = self.reparameterize(w_mu_prior, w_logvar_prior)\n",
    "        z = self.reparameterize(z_mu, z_logvar)\n",
    "        zw = torch.cat([z, w], dim=1)\n",
    "        \n",
    "        x_mu, x_logvar = self.p_x(z, w_encoder)\n",
    "        \n",
    "        return x_mu, x_logvar, zw, \\\n",
    "               w_mu_encoder, w_logvar_encoder, w_mu_prior, \\\n",
    "               w_logvar_prior, z_mu, z_logvar\n",
    "\n",
    "    def calculate_loss(self, x, y, average=True):\n",
    "        \"\"\"\n",
    "        Given the input batch, compute the negative ELBO \n",
    "        :param x:   (MB, inp_dim)\n",
    "        :param beta: Float\n",
    "        :param average: Compute average over mini batch or not, bool\n",
    "        :return: -RE + beta * KL  (MB, ) or (1, )\n",
    "        \"\"\"\n",
    "        x_mu, x_logvar, zw, \\\n",
    "            w_mu_encoder, w_logvar_encoder, w_mu_prior, \\\n",
    "            w_logvar_prior, z_mu, z_logvar = self.forward(x, y)\n",
    "        \n",
    "        z_dist = dists.MultivariateNormal(z_mu.flatten(), torch.diag(z_logvar.flatten().exp()))\n",
    "        z_prior = dists.MultivariateNormal(torch.zeros(self.z_dim * z_mu.size()[0]), torch.eye(self.z_dim * z_mu.size()[0]))\n",
    "        \n",
    "        w_dist = dists.MultivariateNormal(w_mu_encoder.flatten(), torch.diag(w_logvar_encoder.flatten().exp()))\n",
    "        w_prior = dists.MultivariateNormal(w_mu_prior.flatten(), torch.diag(w_logvar_prior.flatten().exp()))\n",
    "        \n",
    "        z_kl = dists.kl.kl_divergence(z_dist, z_prior)\n",
    "        w_kl = dists.kl.kl_divergence(w_dist, w_prior)\n",
    "\n",
    "        recon = ((x_mu - x)**2).mean(dim=(1))\n",
    "        # alternatively use predicted logvar too to evaluate density of input\n",
    "        \n",
    "        ELBO = 20 * recon + 0.2 * z_kl + 1 * w_kl\n",
    "        \n",
    "        if average:\n",
    "            ELBO = ELBO.mean()\n",
    "            recon = recon.mean()\n",
    "            z_kl = z_kl.mean()\n",
    "            w_kl = w_kl.mean()\n",
    "\n",
    "        return ELBO, recon, z_kl, w_kl\n",
    "\n",
    "#     def reconstruct_x(self, x, y):\n",
    "#         x_mean, _, _, _, _ = self.forward(x, y)\n",
    "#         return x_mean\n",
    "\n",
    "#     def calculate_nll(self, X, samples=5000):\n",
    "#         \"\"\"\n",
    "#         Estimate NLL by importance sampling\n",
    "#         :param X: dataset, (N, inp_dim)\n",
    "#         :param samples: Samples per observation\n",
    "#         :return: IS estimate\n",
    "#         \"\"\"   \n",
    "#         prob_sum = 0.\n",
    "\n",
    "#         for i in range(samples):\n",
    "#             KL, RE, _ = self.calculate_loss(X)\n",
    "#             prob_sum += (KL + RE).exp_()\n",
    "            \n",
    "#         return - (prob_sum / samples).sum().log_()\n",
    "\n",
    "#     def generate_x(self, N=25):\n",
    "#         \"\"\"\n",
    "#         Sample, using you VAE: sample z from prior and decode it \n",
    "#         :param N: number of samples\n",
    "#         :return: X (N, inp_size)\n",
    "#         \"\"\"\n",
    "\n",
    "#         m = MultivariateNormal(torch.zeros(self.z_dim + self.w_dim), torch.eye(self.z_dim + self.w_dim))\n",
    "#         z = m.sample(sample_shape=torch.Size([N])) \n",
    "        \n",
    "#         X, _ = self.p_x(z.cuda())\n",
    "#         return X\n",
    "\n",
    "    @staticmethod\n",
    "    def reparameterize(mu, logvar):\n",
    "        std = logvar.mul(0.5).exp_()\n",
    "        eps = torch.FloatTensor(std.size()).normal_().to(mu.device)\n",
    "        return eps.mul(std).add_(mu)"
   ]
  },
  {
   "cell_type": "code",
   "execution_count": null,
   "metadata": {},
   "outputs": [],
   "source": []
  },
  {
   "cell_type": "code",
   "execution_count": 224,
   "metadata": {},
   "outputs": [],
   "source": [
    "x, manifold_x = make_swiss_roll(n_samples=10000)\n",
    "x = x.astype(np.float32)\n",
    "y = (x[:, 0:1] >= 10).astype(np.float32)\n",
    "z_dim = 2\n",
    "w_dim = 2\n",
    "\n",
    "batch_size = 32\n",
    "beta = 1"
   ]
  },
  {
   "cell_type": "code",
   "execution_count": 225,
   "metadata": {},
   "outputs": [],
   "source": [
    "train_set_x_tensor = torch.from_numpy(x)\n",
    "train_set_y_tensor = torch.from_numpy(y)\n",
    "train_set = utils.TensorDataset(train_set_x_tensor, train_set_y_tensor)\n",
    "train_loader = utils.DataLoader(train_set, batch_size=batch_size, shuffle=True)"
   ]
  },
  {
   "cell_type": "code",
   "execution_count": 226,
   "metadata": {},
   "outputs": [],
   "source": [
    "# model = CSVAE(input_dim, z_dim, w_dim).cuda()\n",
    "model = CSVAE(input_dim=x.shape[1], labels_dim=y.shape[1], z_dim=z_dim, w_dim=w_dim)\n",
    "model = model.train()"
   ]
  },
  {
   "cell_type": "code",
   "execution_count": 227,
   "metadata": {
    "scrolled": true
   },
   "outputs": [
    {
     "name": "stderr",
     "output_type": "stream",
     "text": [
      "\n",
      "  0%|          | 0/2300 [00:00<?, ?it/s]\u001b[A\n",
      "  0%|          | 1/2300 [00:04<2:44:32,  4.29s/it]\u001b[A"
     ]
    },
    {
     "name": "stdout",
     "output_type": "stream",
     "text": [
      "Epoch 0\n",
      "Mean MSE: 84.5552\n",
      "Mean KL: 311.8401\n",
      "Mean KL: 3146.6651\n",
      "\n"
     ]
    },
    {
     "name": "stderr",
     "output_type": "stream",
     "text": [
      "\n",
      "  0%|          | 2/2300 [00:08<2:42:18,  4.24s/it]\u001b[A"
     ]
    },
    {
     "name": "stdout",
     "output_type": "stream",
     "text": [
      "Epoch 1\n",
      "Mean MSE: 82.1955\n",
      "Mean KL: 98.8188\n",
      "Mean KL: 1326.5509\n",
      "\n"
     ]
    },
    {
     "name": "stderr",
     "output_type": "stream",
     "text": [
      "\n",
      "  0%|          | 3/2300 [00:12<2:45:08,  4.31s/it]\u001b[A"
     ]
    },
    {
     "name": "stdout",
     "output_type": "stream",
     "text": [
      "Epoch 2\n",
      "Mean MSE: 80.7030\n",
      "Mean KL: 51.6623\n",
      "Mean KL: 701.8606\n",
      "\n"
     ]
    },
    {
     "name": "stderr",
     "output_type": "stream",
     "text": [
      "\n",
      "  0%|          | 4/2300 [00:17<2:47:57,  4.39s/it]\u001b[A"
     ]
    },
    {
     "name": "stdout",
     "output_type": "stream",
     "text": [
      "Epoch 3\n",
      "Mean MSE: 72.6766\n",
      "Mean KL: 31.9364\n",
      "Mean KL: 414.6061\n",
      "\n"
     ]
    },
    {
     "name": "stderr",
     "output_type": "stream",
     "text": [
      "\n",
      "  0%|          | 5/2300 [00:21<2:39:57,  4.18s/it]\u001b[A"
     ]
    },
    {
     "name": "stdout",
     "output_type": "stream",
     "text": [
      "Epoch 4\n",
      "Mean MSE: 53.9303\n",
      "Mean KL: 23.3382\n",
      "Mean KL: 346.4449\n",
      "\n"
     ]
    },
    {
     "name": "stderr",
     "output_type": "stream",
     "text": [
      "\n",
      "  0%|          | 6/2300 [00:24<2:35:04,  4.06s/it]\u001b[A"
     ]
    },
    {
     "name": "stdout",
     "output_type": "stream",
     "text": [
      "Epoch 5\n",
      "Mean MSE: 42.7996\n",
      "Mean KL: 18.5719\n",
      "Mean KL: 348.0418\n",
      "\n"
     ]
    },
    {
     "name": "stderr",
     "output_type": "stream",
     "text": [
      "\n",
      "  0%|          | 7/2300 [00:29<2:39:02,  4.16s/it]\u001b[A"
     ]
    },
    {
     "name": "stdout",
     "output_type": "stream",
     "text": [
      "Epoch 6\n",
      "Mean MSE: 36.6126\n",
      "Mean KL: 15.5698\n",
      "Mean KL: 335.5199\n",
      "\n"
     ]
    },
    {
     "name": "stderr",
     "output_type": "stream",
     "text": [
      "\n",
      "  0%|          | 8/2300 [00:33<2:40:33,  4.20s/it]\u001b[A"
     ]
    },
    {
     "name": "stdout",
     "output_type": "stream",
     "text": [
      "Epoch 7\n",
      "Mean MSE: 33.9061\n",
      "Mean KL: 12.7021\n",
      "Mean KL: 300.5010\n",
      "\n"
     ]
    },
    {
     "name": "stderr",
     "output_type": "stream",
     "text": [
      "\n",
      "  0%|          | 9/2300 [00:37<2:38:35,  4.15s/it]\u001b[A"
     ]
    },
    {
     "name": "stdout",
     "output_type": "stream",
     "text": [
      "Epoch 8\n",
      "Mean MSE: 32.7230\n",
      "Mean KL: 10.1999\n",
      "Mean KL: 260.1253\n",
      "\n"
     ]
    },
    {
     "name": "stderr",
     "output_type": "stream",
     "text": [
      "\n",
      "  0%|          | 10/2300 [00:41<2:32:36,  4.00s/it]\u001b[A"
     ]
    },
    {
     "name": "stdout",
     "output_type": "stream",
     "text": [
      "Epoch 9\n",
      "Mean MSE: 31.9295\n",
      "Mean KL: 8.5481\n",
      "Mean KL: 235.0157\n",
      "\n"
     ]
    },
    {
     "name": "stderr",
     "output_type": "stream",
     "text": [
      "\n",
      "  0%|          | 11/2300 [00:45<2:39:55,  4.19s/it]\u001b[A"
     ]
    },
    {
     "name": "stdout",
     "output_type": "stream",
     "text": [
      "Epoch 10\n",
      "Mean MSE: 31.3475\n",
      "Mean KL: 7.5016\n",
      "Mean KL: 221.4013\n",
      "\n"
     ]
    },
    {
     "name": "stderr",
     "output_type": "stream",
     "text": [
      "\n",
      "  1%|          | 12/2300 [00:49<2:35:29,  4.08s/it]\u001b[A"
     ]
    },
    {
     "name": "stdout",
     "output_type": "stream",
     "text": [
      "Epoch 11\n",
      "Mean MSE: 30.6022\n",
      "Mean KL: 6.6095\n",
      "Mean KL: 213.6340\n",
      "\n"
     ]
    },
    {
     "name": "stderr",
     "output_type": "stream",
     "text": [
      "\n",
      "  1%|          | 13/2300 [00:53<2:36:27,  4.10s/it]\u001b[A"
     ]
    },
    {
     "name": "stdout",
     "output_type": "stream",
     "text": [
      "Epoch 12\n",
      "Mean MSE: 30.0150\n",
      "Mean KL: 5.8513\n",
      "Mean KL: 212.2420\n",
      "\n"
     ]
    },
    {
     "name": "stderr",
     "output_type": "stream",
     "text": [
      "\n",
      "  1%|          | 14/2300 [00:58<2:41:35,  4.24s/it]\u001b[A"
     ]
    },
    {
     "name": "stdout",
     "output_type": "stream",
     "text": [
      "Epoch 13\n",
      "Mean MSE: 28.8010\n",
      "Mean KL: 5.1961\n",
      "Mean KL: 219.3628\n",
      "\n"
     ]
    },
    {
     "name": "stderr",
     "output_type": "stream",
     "text": [
      "\n",
      "  1%|          | 15/2300 [01:03<2:45:41,  4.35s/it]\u001b[A"
     ]
    },
    {
     "name": "stdout",
     "output_type": "stream",
     "text": [
      "Epoch 14\n",
      "Mean MSE: 27.3413\n",
      "Mean KL: 4.6522\n",
      "Mean KL: 235.1540\n",
      "\n"
     ]
    },
    {
     "name": "stderr",
     "output_type": "stream",
     "text": [
      "\n",
      "  1%|          | 16/2300 [01:07<2:47:08,  4.39s/it]\u001b[A"
     ]
    },
    {
     "name": "stdout",
     "output_type": "stream",
     "text": [
      "Epoch 15\n",
      "Mean MSE: 25.8708\n",
      "Mean KL: 4.1486\n",
      "Mean KL: 257.5201\n",
      "\n"
     ]
    },
    {
     "name": "stderr",
     "output_type": "stream",
     "text": [
      "\n",
      "  1%|          | 17/2300 [01:11<2:40:15,  4.21s/it]\u001b[A"
     ]
    },
    {
     "name": "stdout",
     "output_type": "stream",
     "text": [
      "Epoch 16\n",
      "Mean MSE: 24.3402\n",
      "Mean KL: 3.6331\n",
      "Mean KL: 275.1602\n",
      "\n"
     ]
    },
    {
     "name": "stderr",
     "output_type": "stream",
     "text": [
      "\n",
      "  1%|          | 18/2300 [01:14<2:32:25,  4.01s/it]\u001b[A"
     ]
    },
    {
     "name": "stdout",
     "output_type": "stream",
     "text": [
      "Epoch 17\n",
      "Mean MSE: 23.5559\n",
      "Mean KL: 3.1571\n",
      "Mean KL: 286.5338\n",
      "\n"
     ]
    },
    {
     "name": "stderr",
     "output_type": "stream",
     "text": [
      "\n",
      "  1%|          | 19/2300 [01:19<2:36:36,  4.12s/it]\u001b[A"
     ]
    },
    {
     "name": "stdout",
     "output_type": "stream",
     "text": [
      "Epoch 18\n",
      "Mean MSE: 22.6834\n",
      "Mean KL: 2.7202\n",
      "Mean KL: 292.9063\n",
      "\n"
     ]
    },
    {
     "name": "stderr",
     "output_type": "stream",
     "text": [
      "\n",
      "  1%|          | 20/2300 [01:23<2:39:53,  4.21s/it]\u001b[A"
     ]
    },
    {
     "name": "stdout",
     "output_type": "stream",
     "text": [
      "Epoch 19\n",
      "Mean MSE: 22.5417\n",
      "Mean KL: 2.3603\n",
      "Mean KL: 291.2267\n",
      "\n"
     ]
    },
    {
     "name": "stderr",
     "output_type": "stream",
     "text": [
      "\n",
      "  1%|          | 21/2300 [01:28<2:41:56,  4.26s/it]\u001b[A"
     ]
    },
    {
     "name": "stdout",
     "output_type": "stream",
     "text": [
      "Epoch 20\n",
      "Mean MSE: 22.2246\n",
      "Mean KL: 2.0631\n",
      "Mean KL: 291.7730\n",
      "\n"
     ]
    },
    {
     "name": "stderr",
     "output_type": "stream",
     "text": [
      "\n",
      "  1%|          | 22/2300 [01:32<2:38:58,  4.19s/it]\u001b[A"
     ]
    },
    {
     "name": "stdout",
     "output_type": "stream",
     "text": [
      "Epoch 21\n",
      "Mean MSE: 21.6677\n",
      "Mean KL: 1.8072\n",
      "Mean KL: 290.2760\n",
      "\n"
     ]
    },
    {
     "name": "stderr",
     "output_type": "stream",
     "text": [
      "\n",
      "  1%|          | 23/2300 [01:36<2:41:08,  4.25s/it]\u001b[A"
     ]
    },
    {
     "name": "stdout",
     "output_type": "stream",
     "text": [
      "Epoch 22\n",
      "Mean MSE: 21.5432\n",
      "Mean KL: 1.5882\n",
      "Mean KL: 287.3207\n",
      "\n"
     ]
    },
    {
     "name": "stderr",
     "output_type": "stream",
     "text": [
      "\n",
      "  1%|          | 24/2300 [01:40<2:42:44,  4.29s/it]\u001b[A"
     ]
    },
    {
     "name": "stdout",
     "output_type": "stream",
     "text": [
      "Epoch 23\n",
      "Mean MSE: 21.3672\n",
      "Mean KL: 1.4092\n",
      "Mean KL: 285.7800\n",
      "\n"
     ]
    },
    {
     "name": "stderr",
     "output_type": "stream",
     "text": [
      "\n",
      "  1%|          | 25/2300 [01:45<2:43:57,  4.32s/it]\u001b[A"
     ]
    },
    {
     "name": "stdout",
     "output_type": "stream",
     "text": [
      "Epoch 24\n",
      "Mean MSE: 20.9713\n",
      "Mean KL: 1.2736\n",
      "Mean KL: 287.8507\n",
      "\n"
     ]
    },
    {
     "name": "stderr",
     "output_type": "stream",
     "text": [
      "\n",
      "  1%|          | 26/2300 [01:48<2:32:31,  4.02s/it]\u001b[A"
     ]
    },
    {
     "name": "stdout",
     "output_type": "stream",
     "text": [
      "Epoch 25\n",
      "Mean MSE: 20.7850\n",
      "Mean KL: 1.1615\n",
      "Mean KL: 285.4615\n",
      "\n"
     ]
    },
    {
     "name": "stderr",
     "output_type": "stream",
     "text": [
      "\n",
      "  1%|          | 27/2300 [01:52<2:30:22,  3.97s/it]\u001b[A"
     ]
    },
    {
     "name": "stdout",
     "output_type": "stream",
     "text": [
      "Epoch 26\n",
      "Mean MSE: 20.4377\n",
      "Mean KL: 1.0275\n",
      "Mean KL: 285.3121\n",
      "\n"
     ]
    },
    {
     "name": "stderr",
     "output_type": "stream",
     "text": [
      "\n",
      "  1%|          | 28/2300 [01:56<2:35:27,  4.11s/it]\u001b[A"
     ]
    },
    {
     "name": "stdout",
     "output_type": "stream",
     "text": [
      "Epoch 27\n",
      "Mean MSE: 20.2499\n",
      "Mean KL: 0.9379\n",
      "Mean KL: 288.7546\n",
      "\n"
     ]
    },
    {
     "name": "stderr",
     "output_type": "stream",
     "text": [
      "\n",
      "  1%|▏         | 29/2300 [02:01<2:37:35,  4.16s/it]\u001b[A"
     ]
    },
    {
     "name": "stdout",
     "output_type": "stream",
     "text": [
      "Epoch 28\n",
      "Mean MSE: 19.9571\n",
      "Mean KL: 0.8619\n",
      "Mean KL: 290.2612\n",
      "\n"
     ]
    },
    {
     "name": "stderr",
     "output_type": "stream",
     "text": [
      "\n",
      "  1%|▏         | 30/2300 [02:05<2:37:11,  4.15s/it]\u001b[A"
     ]
    },
    {
     "name": "stdout",
     "output_type": "stream",
     "text": [
      "Epoch 29\n",
      "Mean MSE: 19.5599\n",
      "Mean KL: 0.7819\n",
      "Mean KL: 292.5442\n",
      "\n"
     ]
    },
    {
     "name": "stderr",
     "output_type": "stream",
     "text": [
      "\n",
      "  1%|▏         | 31/2300 [02:09<2:40:02,  4.23s/it]\u001b[A"
     ]
    },
    {
     "name": "stdout",
     "output_type": "stream",
     "text": [
      "Epoch 30\n",
      "Mean MSE: 19.2906\n",
      "Mean KL: 0.7097\n",
      "Mean KL: 296.2479\n",
      "\n"
     ]
    },
    {
     "name": "stderr",
     "output_type": "stream",
     "text": [
      "\n",
      "  1%|▏         | 32/2300 [02:14<2:42:55,  4.31s/it]\u001b[A"
     ]
    },
    {
     "name": "stdout",
     "output_type": "stream",
     "text": [
      "Epoch 31\n",
      "Mean MSE: 18.8087\n",
      "Mean KL: 0.6559\n",
      "Mean KL: 297.1693\n",
      "\n"
     ]
    },
    {
     "name": "stderr",
     "output_type": "stream",
     "text": [
      "\n",
      "  1%|▏         | 33/2300 [02:18<2:43:36,  4.33s/it]\u001b[A"
     ]
    },
    {
     "name": "stdout",
     "output_type": "stream",
     "text": [
      "Epoch 32\n",
      "Mean MSE: 18.5152\n",
      "Mean KL: 0.5969\n",
      "Mean KL: 296.8407\n",
      "\n"
     ]
    },
    {
     "name": "stderr",
     "output_type": "stream",
     "text": [
      "\n",
      "  1%|▏         | 34/2300 [02:21<2:27:40,  3.91s/it]\u001b[A"
     ]
    },
    {
     "name": "stdout",
     "output_type": "stream",
     "text": [
      "Epoch 33\n",
      "Mean MSE: 18.2268\n",
      "Mean KL: 0.5421\n",
      "Mean KL: 297.1627\n",
      "\n"
     ]
    },
    {
     "name": "stderr",
     "output_type": "stream",
     "text": [
      "\n",
      "  2%|▏         | 35/2300 [02:25<2:28:51,  3.94s/it]\u001b[A"
     ]
    },
    {
     "name": "stdout",
     "output_type": "stream",
     "text": [
      "Epoch 34\n",
      "Mean MSE: 17.9776\n",
      "Mean KL: 0.5025\n",
      "Mean KL: 296.5841\n",
      "\n"
     ]
    },
    {
     "name": "stderr",
     "output_type": "stream",
     "text": [
      "\n",
      "  2%|▏         | 36/2300 [02:30<2:35:09,  4.11s/it]\u001b[A"
     ]
    },
    {
     "name": "stdout",
     "output_type": "stream",
     "text": [
      "Epoch 35\n",
      "Mean MSE: 17.7323\n",
      "Mean KL: 0.4526\n",
      "Mean KL: 298.5982\n",
      "\n"
     ]
    },
    {
     "name": "stderr",
     "output_type": "stream",
     "text": [
      "\n",
      "  2%|▏         | 37/2300 [02:34<2:35:17,  4.12s/it]\u001b[A"
     ]
    },
    {
     "name": "stdout",
     "output_type": "stream",
     "text": [
      "Epoch 36\n",
      "Mean MSE: 17.6147\n",
      "Mean KL: 0.4181\n",
      "Mean KL: 299.4146\n",
      "\n"
     ]
    },
    {
     "name": "stderr",
     "output_type": "stream",
     "text": [
      "\n",
      "  2%|▏         | 38/2300 [02:38<2:37:45,  4.18s/it]\u001b[A"
     ]
    },
    {
     "name": "stdout",
     "output_type": "stream",
     "text": [
      "Epoch 37\n",
      "Mean MSE: 17.4663\n",
      "Mean KL: 0.3977\n",
      "Mean KL: 300.5303\n",
      "\n"
     ]
    },
    {
     "name": "stderr",
     "output_type": "stream",
     "text": [
      "\n",
      "  2%|▏         | 39/2300 [02:42<2:40:29,  4.26s/it]\u001b[A"
     ]
    },
    {
     "name": "stdout",
     "output_type": "stream",
     "text": [
      "Epoch 38\n",
      "Mean MSE: 17.3315\n",
      "Mean KL: 0.3797\n",
      "Mean KL: 300.3914\n",
      "\n"
     ]
    },
    {
     "name": "stderr",
     "output_type": "stream",
     "text": [
      "\n",
      "  2%|▏         | 40/2300 [02:46<2:30:06,  3.99s/it]\u001b[A"
     ]
    },
    {
     "name": "stdout",
     "output_type": "stream",
     "text": [
      "Epoch 39\n",
      "Mean MSE: 17.2723\n",
      "Mean KL: 0.3616\n",
      "Mean KL: 300.7313\n",
      "\n"
     ]
    },
    {
     "name": "stderr",
     "output_type": "stream",
     "text": [
      "\n",
      "  2%|▏         | 41/2300 [02:50<2:34:44,  4.11s/it]\u001b[A"
     ]
    },
    {
     "name": "stdout",
     "output_type": "stream",
     "text": [
      "Epoch 40\n",
      "Mean MSE: 17.1069\n",
      "Mean KL: 0.3542\n",
      "Mean KL: 301.9757\n",
      "\n"
     ]
    },
    {
     "name": "stderr",
     "output_type": "stream",
     "text": [
      "\n",
      "  2%|▏         | 42/2300 [02:54<2:32:36,  4.06s/it]\u001b[A"
     ]
    },
    {
     "name": "stdout",
     "output_type": "stream",
     "text": [
      "Epoch 41\n",
      "Mean MSE: 17.0433\n",
      "Mean KL: 0.3576\n",
      "Mean KL: 300.7663\n",
      "\n"
     ]
    },
    {
     "name": "stderr",
     "output_type": "stream",
     "text": [
      "\n",
      "  2%|▏         | 43/2300 [02:59<2:36:39,  4.16s/it]\u001b[A"
     ]
    },
    {
     "name": "stdout",
     "output_type": "stream",
     "text": [
      "Epoch 42\n",
      "Mean MSE: 16.9634\n",
      "Mean KL: 0.3512\n",
      "Mean KL: 303.0417\n",
      "\n"
     ]
    },
    {
     "name": "stderr",
     "output_type": "stream",
     "text": [
      "\n",
      "  2%|▏         | 44/2300 [03:03<2:37:28,  4.19s/it]\u001b[A"
     ]
    },
    {
     "name": "stdout",
     "output_type": "stream",
     "text": [
      "Epoch 43\n",
      "Mean MSE: 16.8917\n",
      "Mean KL: 0.3591\n",
      "Mean KL: 301.6078\n",
      "\n"
     ]
    },
    {
     "name": "stderr",
     "output_type": "stream",
     "text": [
      "\n",
      "  2%|▏         | 45/2300 [03:07<2:39:24,  4.24s/it]\u001b[A"
     ]
    },
    {
     "name": "stdout",
     "output_type": "stream",
     "text": [
      "Epoch 44\n",
      "Mean MSE: 16.8623\n",
      "Mean KL: 0.3592\n",
      "Mean KL: 300.6769\n",
      "\n"
     ]
    },
    {
     "name": "stderr",
     "output_type": "stream",
     "text": [
      "\n",
      "  2%|▏         | 46/2300 [03:12<2:41:26,  4.30s/it]\u001b[A"
     ]
    },
    {
     "name": "stdout",
     "output_type": "stream",
     "text": [
      "Epoch 45\n",
      "Mean MSE: 16.8147\n",
      "Mean KL: 0.3633\n",
      "Mean KL: 302.6715\n",
      "\n"
     ]
    },
    {
     "name": "stderr",
     "output_type": "stream",
     "text": [
      "\n",
      "  2%|▏         | 47/2300 [03:16<2:42:58,  4.34s/it]\u001b[A"
     ]
    },
    {
     "name": "stdout",
     "output_type": "stream",
     "text": [
      "Epoch 46\n",
      "Mean MSE: 16.7690\n",
      "Mean KL: 0.3791\n",
      "Mean KL: 301.7132\n",
      "\n"
     ]
    },
    {
     "name": "stderr",
     "output_type": "stream",
     "text": [
      "\n",
      "  2%|▏         | 48/2300 [03:20<2:43:04,  4.34s/it]\u001b[A"
     ]
    },
    {
     "name": "stdout",
     "output_type": "stream",
     "text": [
      "Epoch 47\n",
      "Mean MSE: 16.7304\n",
      "Mean KL: 0.3816\n",
      "Mean KL: 301.8992\n",
      "\n"
     ]
    },
    {
     "name": "stderr",
     "output_type": "stream",
     "text": [
      "\n",
      "  2%|▏         | 49/2300 [03:25<2:44:21,  4.38s/it]\u001b[A"
     ]
    },
    {
     "name": "stdout",
     "output_type": "stream",
     "text": [
      "Epoch 48\n",
      "Mean MSE: 16.6831\n",
      "Mean KL: 0.4272\n",
      "Mean KL: 302.6115\n",
      "\n"
     ]
    },
    {
     "name": "stderr",
     "output_type": "stream",
     "text": [
      "\n",
      "  2%|▏         | 50/2300 [03:29<2:38:15,  4.22s/it]\u001b[A"
     ]
    },
    {
     "name": "stdout",
     "output_type": "stream",
     "text": [
      "Epoch 49\n",
      "Mean MSE: 16.5577\n",
      "Mean KL: 0.4778\n",
      "Mean KL: 301.6247\n",
      "\n"
     ]
    },
    {
     "name": "stderr",
     "output_type": "stream",
     "text": [
      "\n",
      "  2%|▏         | 51/2300 [03:33<2:40:10,  4.27s/it]\u001b[A"
     ]
    },
    {
     "name": "stdout",
     "output_type": "stream",
     "text": [
      "Epoch 50\n",
      "Mean MSE: 16.5727\n",
      "Mean KL: 0.5125\n",
      "Mean KL: 302.9719\n",
      "\n"
     ]
    },
    {
     "name": "stderr",
     "output_type": "stream",
     "text": [
      "\n",
      "  2%|▏         | 52/2300 [03:38<2:45:25,  4.42s/it]\u001b[A"
     ]
    },
    {
     "name": "stdout",
     "output_type": "stream",
     "text": [
      "Epoch 51\n",
      "Mean MSE: 16.5371\n",
      "Mean KL: 0.5683\n",
      "Mean KL: 302.9312\n",
      "\n"
     ]
    },
    {
     "ename": "KeyboardInterrupt",
     "evalue": "",
     "output_type": "error",
     "traceback": [
      "\u001b[0;31m---------------------------------------------------------------------------\u001b[0m",
      "\u001b[0;31mKeyboardInterrupt\u001b[0m                         Traceback (most recent call last)",
      "\u001b[0;32m<ipython-input-227-4a1cab00adfa>\u001b[0m in \u001b[0;36m<module>\u001b[0;34m\u001b[0m\n\u001b[1;32m     10\u001b[0m         \u001b[0mcur_batch\u001b[0m \u001b[0;34m=\u001b[0m \u001b[0mcur_batch\u001b[0m\u001b[0;34m\u001b[0m\u001b[0;34m\u001b[0m\u001b[0m\n\u001b[1;32m     11\u001b[0m         \u001b[0mopt\u001b[0m\u001b[0;34m.\u001b[0m\u001b[0mzero_grad\u001b[0m\u001b[0;34m(\u001b[0m\u001b[0;34m)\u001b[0m\u001b[0;34m\u001b[0m\u001b[0;34m\u001b[0m\u001b[0m\n\u001b[0;32m---> 12\u001b[0;31m         \u001b[0mloss_val\u001b[0m\u001b[0;34m,\u001b[0m \u001b[0mrecon_loss_val\u001b[0m\u001b[0;34m,\u001b[0m \u001b[0mz_kl_loss_val\u001b[0m\u001b[0;34m,\u001b[0m \u001b[0mw_kl_loss_val\u001b[0m \u001b[0;34m=\u001b[0m \u001b[0mmodel\u001b[0m\u001b[0;34m.\u001b[0m\u001b[0mcalculate_loss\u001b[0m\u001b[0;34m(\u001b[0m\u001b[0;34m*\u001b[0m\u001b[0mcur_batch\u001b[0m\u001b[0;34m)\u001b[0m\u001b[0;34m\u001b[0m\u001b[0;34m\u001b[0m\u001b[0m\n\u001b[0m\u001b[1;32m     13\u001b[0m         \u001b[0mloss_val\u001b[0m\u001b[0;34m.\u001b[0m\u001b[0mbackward\u001b[0m\u001b[0;34m(\u001b[0m\u001b[0;34m)\u001b[0m\u001b[0;34m\u001b[0m\u001b[0;34m\u001b[0m\u001b[0m\n\u001b[1;32m     14\u001b[0m         \u001b[0mopt\u001b[0m\u001b[0;34m.\u001b[0m\u001b[0mstep\u001b[0m\u001b[0;34m(\u001b[0m\u001b[0;34m)\u001b[0m\u001b[0;34m\u001b[0m\u001b[0;34m\u001b[0m\u001b[0m\n",
      "\u001b[0;32m<ipython-input-219-5cf6160e30df>\u001b[0m in \u001b[0;36mcalculate_loss\u001b[0;34m(self, x, y, average)\u001b[0m\n\u001b[1;32m    102\u001b[0m             \u001b[0mw_logvar_prior\u001b[0m\u001b[0;34m,\u001b[0m \u001b[0mz_mu\u001b[0m\u001b[0;34m,\u001b[0m \u001b[0mz_logvar\u001b[0m \u001b[0;34m=\u001b[0m \u001b[0mself\u001b[0m\u001b[0;34m.\u001b[0m\u001b[0mforward\u001b[0m\u001b[0;34m(\u001b[0m\u001b[0mx\u001b[0m\u001b[0;34m,\u001b[0m \u001b[0my\u001b[0m\u001b[0;34m)\u001b[0m\u001b[0;34m\u001b[0m\u001b[0;34m\u001b[0m\u001b[0m\n\u001b[1;32m    103\u001b[0m \u001b[0;34m\u001b[0m\u001b[0m\n\u001b[0;32m--> 104\u001b[0;31m         \u001b[0mz_dist\u001b[0m \u001b[0;34m=\u001b[0m \u001b[0mdists\u001b[0m\u001b[0;34m.\u001b[0m\u001b[0mMultivariateNormal\u001b[0m\u001b[0;34m(\u001b[0m\u001b[0mz_mu\u001b[0m\u001b[0;34m.\u001b[0m\u001b[0mflatten\u001b[0m\u001b[0;34m(\u001b[0m\u001b[0;34m)\u001b[0m\u001b[0;34m,\u001b[0m \u001b[0mtorch\u001b[0m\u001b[0;34m.\u001b[0m\u001b[0mdiag\u001b[0m\u001b[0;34m(\u001b[0m\u001b[0mz_logvar\u001b[0m\u001b[0;34m.\u001b[0m\u001b[0mflatten\u001b[0m\u001b[0;34m(\u001b[0m\u001b[0;34m)\u001b[0m\u001b[0;34m.\u001b[0m\u001b[0mexp\u001b[0m\u001b[0;34m(\u001b[0m\u001b[0;34m)\u001b[0m\u001b[0;34m)\u001b[0m\u001b[0;34m)\u001b[0m\u001b[0;34m\u001b[0m\u001b[0;34m\u001b[0m\u001b[0m\n\u001b[0m\u001b[1;32m    105\u001b[0m         \u001b[0mz_prior\u001b[0m \u001b[0;34m=\u001b[0m \u001b[0mdists\u001b[0m\u001b[0;34m.\u001b[0m\u001b[0mMultivariateNormal\u001b[0m\u001b[0;34m(\u001b[0m\u001b[0mtorch\u001b[0m\u001b[0;34m.\u001b[0m\u001b[0mzeros\u001b[0m\u001b[0;34m(\u001b[0m\u001b[0mself\u001b[0m\u001b[0;34m.\u001b[0m\u001b[0mz_dim\u001b[0m \u001b[0;34m*\u001b[0m \u001b[0mz_mu\u001b[0m\u001b[0;34m.\u001b[0m\u001b[0msize\u001b[0m\u001b[0;34m(\u001b[0m\u001b[0;34m)\u001b[0m\u001b[0;34m[\u001b[0m\u001b[0;36m0\u001b[0m\u001b[0;34m]\u001b[0m\u001b[0;34m)\u001b[0m\u001b[0;34m,\u001b[0m \u001b[0mtorch\u001b[0m\u001b[0;34m.\u001b[0m\u001b[0meye\u001b[0m\u001b[0;34m(\u001b[0m\u001b[0mself\u001b[0m\u001b[0;34m.\u001b[0m\u001b[0mz_dim\u001b[0m \u001b[0;34m*\u001b[0m \u001b[0mz_mu\u001b[0m\u001b[0;34m.\u001b[0m\u001b[0msize\u001b[0m\u001b[0;34m(\u001b[0m\u001b[0;34m)\u001b[0m\u001b[0;34m[\u001b[0m\u001b[0;36m0\u001b[0m\u001b[0;34m]\u001b[0m\u001b[0;34m)\u001b[0m\u001b[0;34m)\u001b[0m\u001b[0;34m\u001b[0m\u001b[0;34m\u001b[0m\u001b[0m\n\u001b[1;32m    106\u001b[0m \u001b[0;34m\u001b[0m\u001b[0m\n",
      "\u001b[0;32m~/miniconda3/envs/myenv/lib/python3.7/site-packages/torch/distributions/multivariate_normal.py\u001b[0m in \u001b[0;36m__init__\u001b[0;34m(self, loc, covariance_matrix, precision_matrix, scale_tril, validate_args)\u001b[0m\n\u001b[1;32m    140\u001b[0m             \u001b[0;32mif\u001b[0m \u001b[0mprecision_matrix\u001b[0m \u001b[0;32mis\u001b[0m \u001b[0;32mnot\u001b[0m \u001b[0;32mNone\u001b[0m\u001b[0;34m:\u001b[0m\u001b[0;34m\u001b[0m\u001b[0;34m\u001b[0m\u001b[0m\n\u001b[1;32m    141\u001b[0m                 \u001b[0mself\u001b[0m\u001b[0;34m.\u001b[0m\u001b[0mcovariance_matrix\u001b[0m \u001b[0;34m=\u001b[0m \u001b[0mtorch\u001b[0m\u001b[0;34m.\u001b[0m\u001b[0minverse\u001b[0m\u001b[0;34m(\u001b[0m\u001b[0mprecision_matrix\u001b[0m\u001b[0;34m)\u001b[0m\u001b[0;34m.\u001b[0m\u001b[0mexpand_as\u001b[0m\u001b[0;34m(\u001b[0m\u001b[0mloc_\u001b[0m\u001b[0;34m)\u001b[0m\u001b[0;34m\u001b[0m\u001b[0;34m\u001b[0m\u001b[0m\n\u001b[0;32m--> 142\u001b[0;31m             \u001b[0mself\u001b[0m\u001b[0;34m.\u001b[0m\u001b[0m_unbroadcasted_scale_tril\u001b[0m \u001b[0;34m=\u001b[0m \u001b[0mtorch\u001b[0m\u001b[0;34m.\u001b[0m\u001b[0mcholesky\u001b[0m\u001b[0;34m(\u001b[0m\u001b[0mself\u001b[0m\u001b[0;34m.\u001b[0m\u001b[0mcovariance_matrix\u001b[0m\u001b[0;34m)\u001b[0m\u001b[0;34m\u001b[0m\u001b[0;34m\u001b[0m\u001b[0m\n\u001b[0m\u001b[1;32m    143\u001b[0m \u001b[0;34m\u001b[0m\u001b[0m\n\u001b[1;32m    144\u001b[0m     \u001b[0;32mdef\u001b[0m \u001b[0mexpand\u001b[0m\u001b[0;34m(\u001b[0m\u001b[0mself\u001b[0m\u001b[0;34m,\u001b[0m \u001b[0mbatch_shape\u001b[0m\u001b[0;34m,\u001b[0m \u001b[0m_instance\u001b[0m\u001b[0;34m=\u001b[0m\u001b[0;32mNone\u001b[0m\u001b[0;34m)\u001b[0m\u001b[0;34m:\u001b[0m\u001b[0;34m\u001b[0m\u001b[0;34m\u001b[0m\u001b[0m\n",
      "\u001b[0;31mKeyboardInterrupt\u001b[0m: "
     ]
    }
   ],
   "source": [
    "opt = optim.Adam(model.parameters(), lr=1e-3/2)\n",
    "scheduler = optim.lr_scheduler.MultiStepLR(opt, milestones=[pow(3, i) for i in range(7)], gamma=pow(0.1, 1/7))\n",
    "n_epochs = 2300\n",
    "\n",
    "mse_losses = []\n",
    "z_kl_losses = []\n",
    "w_kl_losses = []\n",
    "for epoch_i in trange(n_epochs):\n",
    "    for cur_batch in train_loader:\n",
    "        cur_batch = cur_batch\n",
    "        opt.zero_grad()\n",
    "        loss_val, recon_loss_val, z_kl_loss_val, w_kl_loss_val = model.calculate_loss(*cur_batch)\n",
    "        loss_val.backward()\n",
    "        opt.step()\n",
    "        mse_losses.append(recon_loss_val.item())\n",
    "        z_kl_losses.append(z_kl_loss_val.item())\n",
    "        w_kl_losses.append(w_kl_loss_val.item())\n",
    "#         print(z_kl_losses[-1])\n",
    "    scheduler.step()\n",
    "    print(f'Epoch {epoch_i}')\n",
    "    print(f'Mean MSE: {np.array(mse_losses[-len(train_loader):]).mean():.4f}')\n",
    "    print(f'Mean w KL: {np.array(w_kl_losses[-len(train_loader):]).mean():.4f}')\n",
    "    print(f'Mean z KL: {np.array(z_kl_losses[-len(train_loader):]).mean():.4f}')\n",
    "    print()"
   ]
  },
  {
   "cell_type": "code",
   "execution_count": null,
   "metadata": {},
   "outputs": [],
   "source": []
  },
  {
   "cell_type": "code",
   "execution_count": 236,
   "metadata": {},
   "outputs": [],
   "source": [
    "x_test, manifold_x_test = make_swiss_roll(n_samples=10000)"
   ]
  },
  {
   "cell_type": "code",
   "execution_count": null,
   "metadata": {},
   "outputs": [],
   "source": [
    "# Testing process\n",
    "\n",
    "x_test, manifold_x_test = make_swiss_roll(n_samples=10000)\n",
    "x_test = x_test.astype(np.float32)\n",
    "test_set_tensor = torch.from_numpy(x_test)\n",
    "mu_x, logvar_x, z_hat, mu_z, logvar_z = model.forward(test_set_tensor)\n",
    "\n",
    "labels_test = (x_test[:, 0:1] >= 10)\n",
    "colors_test = ['red' if label[0] else 'blue' for label in labels_test]\n",
    "\n",
    "z_hat = z_hat.detach().numpy()\n",
    "z_comp = z_hat[:, :2]\n",
    "w_comp = z_hat[:, 2:]"
   ]
  },
  {
   "cell_type": "code",
   "execution_count": null,
   "metadata": {},
   "outputs": [],
   "source": [
    "# Usual VAE results\n",
    "\n",
    "plt.figure(figsize=(5, 5,))\n",
    "plt.title('(z1, z2)')\n",
    "plt.scatter(z_comp[:, 0], z_comp[:, 1], c=colors_test)\n",
    "\n",
    "plt.figure(figsize=(5, 5,))\n",
    "plt.title('(z2, w1)')\n",
    "plt.scatter(z_comp[:, 1], w_comp[:, 0], c=colors_test)\n",
    "\n",
    "plt.figure(figsize=(5, 5,))\n",
    "plt.title('(w1, w2)')\n",
    "plt.scatter(w_comp[:, 0], w_comp[:, 1], c=colors_test)\n",
    "\n",
    "plt.figure(figsize=(5, 5,))\n",
    "plt.title('(w2, z1)')\n",
    "plt.scatter(w_comp[:, 1], w_comp[:, 0], c=colors_test)"
   ]
  },
  {
   "cell_type": "code",
   "execution_count": null,
   "metadata": {},
   "outputs": [],
   "source": []
  },
  {
   "cell_type": "code",
   "execution_count": null,
   "metadata": {},
   "outputs": [],
   "source": []
  },
  {
   "cell_type": "code",
   "execution_count": null,
   "metadata": {},
   "outputs": [],
   "source": []
  },
  {
   "cell_type": "code",
   "execution_count": null,
   "metadata": {},
   "outputs": [],
   "source": []
  }
 ],
 "metadata": {
  "kernelspec": {
   "display_name": "Python 3",
   "language": "python",
   "name": "python3"
  },
  "language_info": {
   "codemirror_mode": {
    "name": "ipython",
    "version": 3
   },
   "file_extension": ".py",
   "mimetype": "text/x-python",
   "name": "python",
   "nbconvert_exporter": "python",
   "pygments_lexer": "ipython3",
   "version": "3.7.4"
  }
 },
 "nbformat": 4,
 "nbformat_minor": 4
}
