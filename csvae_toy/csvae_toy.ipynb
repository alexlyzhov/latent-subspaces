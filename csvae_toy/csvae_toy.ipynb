{
 "cells": [
  {
   "cell_type": "code",
   "execution_count": 1,
   "metadata": {},
   "outputs": [],
   "source": [
    "import torch\n",
    "from torch import nn\n",
    "from torch.distributions.multivariate_normal import MultivariateNormal\n",
    "import torch.nn.functional as F\n",
    "import torch.optim as optim\n",
    "import torch.distributions as dists\n",
    "import torch.utils.data as utils\n",
    "from torch.utils.data import DataLoader, Dataset\n",
    "import numpy as np\n",
    "import pandas as pd\n",
    "import os\n",
    "import sys\n",
    "import time\n",
    "from collections import defaultdict\n",
    "from datetime import datetime\n",
    "import matplotlib.pyplot as plt\n",
    "from sklearn.datasets import make_swiss_roll\n",
    "from tqdm import tqdm, trange\n",
    "import matplotlib.pyplot as plt\n",
    "%matplotlib inline"
   ]
  },
  {
   "cell_type": "code",
   "execution_count": 69,
   "metadata": {},
   "outputs": [],
   "source": [
    "class CSVAE(nn.Module):\n",
    "    def __init__(self, input_dim, labels_dim, z_dim, w_dim):\n",
    "        super(CSVAE, self).__init__()\n",
    "        self.input_dim = input_dim\n",
    "        self.labels_dim = labels_dim\n",
    "        self.z_dim = z_dim\n",
    "        self.w_dim = w_dim\n",
    "        \n",
    "        self.encoder_xy_to_w = nn.Sequential(nn.Linear(input_dim+labels_dim, w_dim), nn.ReLU(), nn.Linear(w_dim, w_dim), nn.ReLU())\n",
    "        self.mu_xy_to_w = nn.Linear(w_dim, w_dim)\n",
    "        self.logvar_xy_to_w = nn.Linear(w_dim, w_dim)\n",
    "        \n",
    "        self.encoder_x_to_z = nn.Sequential(nn.Linear(input_dim, z_dim), nn.ReLU(), nn.Linear(z_dim, z_dim), nn.ReLU())\n",
    "        self.mu_x_to_z = nn.Linear(z_dim, z_dim)\n",
    "        self.logvar_x_to_z = nn.Linear(z_dim, z_dim)\n",
    "        \n",
    "        self.encoder_y_to_w = nn.Sequential(nn.Linear(labels_dim, w_dim), nn.ReLU(), nn.Linear(w_dim, w_dim), nn.ReLU())\n",
    "        self.mu_y_to_w = nn.Linear(w_dim, w_dim)\n",
    "        self.logvar_y_to_w = nn.Linear(w_dim, w_dim)\n",
    "        \n",
    "        # Add sigmoid or smth for images!\n",
    "        self.decoder_zw_to_x = nn.Sequential(nn.Linear(z_dim+w_dim, z_dim+w_dim), nn.ReLU(), nn.Linear(z_dim+w_dim, z_dim+w_dim), nn.ReLU())\n",
    "        self.mu_zw_to_x = nn.Linear(z_dim+w_dim, input_dim)\n",
    "        self.logvar_zw_to_x = nn.Linear(z_dim+w_dim, input_dim)\n",
    "        \n",
    "        self.decoder_z_to_y = nn.Sequential(nn.Linear(z_dim, z_dim), nn.ReLU(), nn.Linear(z_dim, z_dim), nn.ReLU(),\n",
    "                                            nn.Linear(z_dim, labels_dim), nn.Sigmoid())\n",
    "\n",
    "        self.init_params()\n",
    "\n",
    "    def init_params(self):\n",
    "        for m in self.modules():\n",
    "            if isinstance(m, nn.Linear) or isinstance(m, nn.Conv2d) or isinstance(m, nn.ConvTranspose2d):\n",
    "                nn.init.xavier_normal_(m.weight.data)\n",
    "        \n",
    "    def q_zw(self, x, y):\n",
    "        \"\"\"\n",
    "        VARIATIONAL POSTERIOR\n",
    "        :param x: input image\n",
    "        :return: parameters of q(z|x), (MB, hid_dim)\n",
    "        \"\"\"\n",
    "        xy = torch.cat([x, y], dim=1)\n",
    "        \n",
    "        intermediate = self.encoder_x_to_z(x)\n",
    "        z_mu = self.mu_x_to_z(intermediate)\n",
    "        z_logvar = self.mu_x_to_z(intermediate)\n",
    "        \n",
    "        intermediate = self.encoder_xy_to_w(xy)\n",
    "        w_mu_encoder = self.mu_xy_to_w(intermediate)\n",
    "        w_logvar_encoder = self.mu_xy_to_w(intermediate)\n",
    "        \n",
    "        intermediate = self.encoder_y_to_w(y)\n",
    "        w_mu_prior = self.mu_y_to_w(intermediate)\n",
    "        w_logvar_prior = self.mu_y_to_w(intermediate)\n",
    "        \n",
    "        return w_mu_encoder, w_logvar_encoder, w_mu_prior, \\\n",
    "               w_logvar_prior, z_mu, z_logvar\n",
    "    \n",
    "    def p_x(self, z, w):\n",
    "        \"\"\"\n",
    "        GENERATIVE DISTRIBUTION\n",
    "        :param z: latent vector          (MB, hid_dim)\n",
    "        :return: parameters of p(x|z)    (MB, inp_dim)\n",
    "        \"\"\"\n",
    "        \n",
    "        zw = torch.cat([z, w], dim=1)\n",
    "        \n",
    "        intermediate = self.decoder_zw_to_x(zw)\n",
    "        mu = self.mu_zw_to_x(intermediate)\n",
    "        logvar = self.logvar_zw_to_x(intermediate)\n",
    "        \n",
    "        return mu, logvar\n",
    "\n",
    "    def forward(self, x, y):\n",
    "        \"\"\"\n",
    "        Encode the image, sample z and decode \n",
    "        :param x: input image\n",
    "        :return: parameters of p(x|z_hat), z_hat, parameters of q(z|x)\n",
    "        \"\"\"\n",
    "        w_mu_encoder, w_logvar_encoder, w_mu_prior, \\\n",
    "            w_logvar_prior, z_mu, z_logvar = self.q_zw(x, y)\n",
    "        w_encoder = self.reparameterize(w_mu_encoder, w_logvar_encoder)\n",
    "        w_prior = self.reparameterize(w_mu_prior, w_logvar_prior)\n",
    "        z = self.reparameterize(z_mu, z_logvar)\n",
    "        zw = torch.cat([z, w_encoder], dim=1)\n",
    "        \n",
    "        x_mu, x_logvar = self.p_x(z, w_encoder)\n",
    "        y_pred = self.decoder_z_to_y(z)\n",
    "        \n",
    "        return x_mu, x_logvar, zw, y_pred, \\\n",
    "               w_mu_encoder, w_logvar_encoder, w_mu_prior, \\\n",
    "               w_logvar_prior, z_mu, z_logvar\n",
    "\n",
    "    def calculate_loss(self, x, y):\n",
    "        \"\"\"\n",
    "        Given the input batch, compute the negative ELBO \n",
    "        :param x:   (MB, inp_dim)\n",
    "        :param beta: Float\n",
    "        :param average: Compute average over mini batch or not, bool\n",
    "        :return: -RE + beta * KL  (MB, ) or (1, )\n",
    "        \"\"\"\n",
    "        x_mu, x_logvar, zw, y_pred, \\\n",
    "            w_mu_encoder, w_logvar_encoder, w_mu_prior, \\\n",
    "            w_logvar_prior, z_mu, z_logvar = self.forward(x, y)\n",
    "        \n",
    "        x_recon = nn.MSELoss()(x_mu, x)\n",
    "        \n",
    "        w_dist = dists.MultivariateNormal(w_mu_encoder.flatten(), torch.diag(w_logvar_encoder.flatten().exp()))\n",
    "        w_prior = dists.MultivariateNormal(w_mu_prior.flatten(), torch.diag(w_logvar_prior.flatten().exp()))\n",
    "        w_kl = dists.kl.kl_divergence(w_dist, w_prior)\n",
    "        \n",
    "        z_dist = dists.MultivariateNormal(z_mu.flatten(), torch.diag(z_logvar.flatten().exp()))\n",
    "        z_prior = dists.MultivariateNormal(torch.zeros(self.z_dim * z_mu.size()[0]), torch.eye(self.z_dim * z_mu.size()[0]))\n",
    "        z_kl = dists.kl.kl_divergence(z_dist, z_prior)\n",
    "        \n",
    "        y_pred_negentropy = (y_pred.log() * y_pred + (1-y_pred).log() * (1-y_pred)).mean()\n",
    "\n",
    "        y_recon = 1 * nn.BCELoss()(y_pred, y)\n",
    "        # alternatively use predicted logvar too to evaluate density of input\n",
    "        \n",
    "        # ELBO does not include y_recon because it should be optimized separately\n",
    "        ELBO = 20 * x_recon + 0.2 * z_kl + 1 * w_kl + 10 * y_pred_negentropy\n",
    "        \n",
    "        return ELBO, x_recon, w_kl, z_kl, y_pred_negentropy, y_recon\n",
    "\n",
    "#     def reconstruct_x(self, x, y):\n",
    "#         x_mean, _, _, _, _ = self.forward(x, y)\n",
    "#         return x_mean\n",
    "\n",
    "#     def calculate_nll(self, X, samples=5000):\n",
    "#         \"\"\"\n",
    "#         Estimate NLL by importance sampling\n",
    "#         :param X: dataset, (N, inp_dim)\n",
    "#         :param samples: Samples per observation\n",
    "#         :return: IS estimate\n",
    "#         \"\"\"   \n",
    "#         prob_sum = 0.\n",
    "\n",
    "#         for i in range(samples):\n",
    "#             KL, RE, _ = self.calculate_loss(X)\n",
    "#             prob_sum += (KL + RE).exp_()\n",
    "            \n",
    "#         return - (prob_sum / samples).sum().log_()\n",
    "\n",
    "#     def generate_x(self, N=25):\n",
    "#         \"\"\"\n",
    "#         Sample, using you VAE: sample z from prior and decode it \n",
    "#         :param N: number of samples\n",
    "#         :return: X (N, inp_size)\n",
    "#         \"\"\"\n",
    "\n",
    "#         m = MultivariateNormal(torch.zeros(self.z_dim + self.w_dim), torch.eye(self.z_dim + self.w_dim))\n",
    "#         z = m.sample(sample_shape=torch.Size([N])) \n",
    "        \n",
    "#         X, _ = self.p_x(z.cuda())\n",
    "#         return X\n",
    "\n",
    "    @staticmethod\n",
    "    def reparameterize(mu, logvar):\n",
    "        std = logvar.mul(0.5).exp_()\n",
    "        eps = torch.FloatTensor(std.size()).normal_().to(mu.device)\n",
    "        return eps.mul(std).add_(mu)"
   ]
  },
  {
   "cell_type": "code",
   "execution_count": null,
   "metadata": {},
   "outputs": [],
   "source": []
  },
  {
   "cell_type": "code",
   "execution_count": 70,
   "metadata": {},
   "outputs": [],
   "source": [
    "z_dim = 2\n",
    "w_dim = 2\n",
    "batch_size = 32"
   ]
  },
  {
   "cell_type": "code",
   "execution_count": 71,
   "metadata": {},
   "outputs": [],
   "source": [
    "x_train, manifold_x_train = make_swiss_roll(n_samples=10000)\n",
    "x_train = x_train.astype(np.float32)\n",
    "y_train = (x_train[:, 0:1] >= 10).astype(np.float32)\n",
    "\n",
    "train_set_x_tensor = torch.from_numpy(x_train)\n",
    "train_set_y_tensor = torch.from_numpy(y_train)\n",
    "train_set = utils.TensorDataset(train_set_x_tensor, train_set_y_tensor)\n",
    "train_loader = utils.DataLoader(train_set, batch_size=batch_size, shuffle=True)"
   ]
  },
  {
   "cell_type": "code",
   "execution_count": 72,
   "metadata": {},
   "outputs": [],
   "source": [
    "x_test, manifold_x_test = make_swiss_roll(n_samples=10000)\n",
    "x_test = x_test.astype(np.float32)\n",
    "y_test = (x_test[:, 0:1] >= 10).astype(np.float32)\n",
    "\n",
    "test_set_x_tensor = torch.from_numpy(x_test)\n",
    "test_set_y_tensor = torch.from_numpy(y_test)\n",
    "test_set = utils.TensorDataset(test_set_x_tensor, test_set_y_tensor)\n",
    "test_loader = utils.DataLoader(test_set, batch_size=batch_size, shuffle=False)"
   ]
  },
  {
   "cell_type": "code",
   "execution_count": 73,
   "metadata": {},
   "outputs": [],
   "source": [
    "model = CSVAE(input_dim=x_train.shape[1], labels_dim=y_train.shape[1], z_dim=z_dim, w_dim=w_dim)\n",
    "model = model.train()"
   ]
  },
  {
   "cell_type": "code",
   "execution_count": 74,
   "metadata": {},
   "outputs": [],
   "source": [
    "params_without_delta = [param for name, param in model.named_parameters() if 'decoder_z_to_y' not in name]\n",
    "params_delta = [param for name, param in model.named_parameters() if 'decoder_z_to_y' in name]\n",
    "\n",
    "opt_without_delta = optim.Adam(params_without_delta, lr=(1e-3)/2)\n",
    "scheduler_without_delta = optim.lr_scheduler.MultiStepLR(opt_without_delta, milestones=[pow(3, i) for i in range(7)], gamma=pow(0.1, 1/7))\n",
    "opt_delta = optim.Adam(params_delta, lr=(1e-3)/2)\n",
    "scheduler_delta = optim.lr_scheduler.MultiStepLR(opt_delta, milestones=[pow(3, i) for i in range(7)], gamma=pow(0.1, 1/7))\n",
    "n_epochs = 2300"
   ]
  },
  {
   "cell_type": "code",
   "execution_count": 75,
   "metadata": {
    "scrolled": true
   },
   "outputs": [
    {
     "name": "stderr",
     "output_type": "stream",
     "text": [
      "\n",
      "\n",
      "\n",
      "\n",
      "  0%|          | 0/2300 [00:00<?, ?it/s]\u001b[A\u001b[A\u001b[A\u001b[A"
     ]
    },
    {
     "name": "stdout",
     "output_type": "stream",
     "text": [
      "Epoch 0\n",
      "Train\n",
      "MSE(x): 194.0324\n",
      "KL(w): 803978.4742\n",
      "KL(z): 134.6784\n",
      "-H(y): -0.6800\n",
      "BCE(y): 134.6784\n"
     ]
    },
    {
     "name": "stderr",
     "output_type": "stream",
     "text": [
      "\n",
      "\n",
      "\n",
      "\n",
      "  0%|          | 1/2300 [00:06<4:14:33,  6.64s/it]\u001b[A\u001b[A\u001b[A\u001b[A"
     ]
    },
    {
     "name": "stdout",
     "output_type": "stream",
     "text": [
      "Test\n",
      "MSE(x): 87.9093\n",
      "KL(w): 205182.8058\n",
      "KL(z): 54.8414\n",
      "-H(y): -0.6679\n",
      "BCE(y): 54.8414\n",
      "\n",
      "Epoch 1\n",
      "Train\n",
      "MSE(x): 77.4523\n",
      "KL(w): 145563.1732\n",
      "KL(z): 34.8305\n",
      "-H(y): -0.6535\n",
      "BCE(y): 34.8305\n"
     ]
    },
    {
     "name": "stderr",
     "output_type": "stream",
     "text": [
      "\n",
      "\n",
      "\n",
      "\n",
      "  0%|          | 2/2300 [00:13<4:21:26,  6.83s/it]\u001b[A\u001b[A\u001b[A\u001b[A"
     ]
    },
    {
     "name": "stdout",
     "output_type": "stream",
     "text": [
      "Test\n",
      "MSE(x): 69.4078\n",
      "KL(w): 100583.7956\n",
      "KL(z): 22.2719\n",
      "-H(y): -0.6356\n",
      "BCE(y): 22.2719\n",
      "\n",
      "Epoch 2\n",
      "Train\n",
      "MSE(x): 63.5004\n",
      "KL(w): 79160.4815\n",
      "KL(z): 17.4389\n",
      "-H(y): -0.6085\n",
      "BCE(y): 17.4389\n"
     ]
    },
    {
     "name": "stderr",
     "output_type": "stream",
     "text": [
      "\n",
      "\n",
      "\n",
      "\n",
      "  0%|          | 3/2300 [00:20<4:19:44,  6.78s/it]\u001b[A\u001b[A\u001b[A\u001b[A"
     ]
    },
    {
     "name": "stdout",
     "output_type": "stream",
     "text": [
      "Test\n",
      "MSE(x): 60.2732\n",
      "KL(w): 60845.6780\n",
      "KL(z): 15.7226\n",
      "-H(y): -0.5773\n",
      "BCE(y): 15.7226\n",
      "\n",
      "Epoch 3\n",
      "Train\n",
      "MSE(x): 57.8605\n",
      "KL(w): 53197.8369\n",
      "KL(z): 16.0597\n",
      "-H(y): -0.5507\n",
      "BCE(y): 16.0597\n"
     ]
    },
    {
     "name": "stderr",
     "output_type": "stream",
     "text": [
      "\n",
      "\n",
      "\n",
      "\n",
      "  0%|          | 4/2300 [00:27<4:24:25,  6.91s/it]\u001b[A\u001b[A\u001b[A\u001b[A"
     ]
    },
    {
     "name": "stdout",
     "output_type": "stream",
     "text": [
      "Test\n",
      "MSE(x): 55.9926\n",
      "KL(w): 45251.6533\n",
      "KL(z): 17.1951\n",
      "-H(y): -0.5262\n",
      "BCE(y): 17.1951\n",
      "\n",
      "Epoch 4\n",
      "Train\n",
      "MSE(x): 54.2743\n",
      "KL(w): 40192.5186\n",
      "KL(z): 18.8301\n",
      "-H(y): -0.5048\n",
      "BCE(y): 18.8301\n"
     ]
    },
    {
     "name": "stderr",
     "output_type": "stream",
     "text": [
      "\n",
      "\n",
      "\n",
      "\n",
      "  0%|          | 5/2300 [00:33<4:16:06,  6.70s/it]\u001b[A\u001b[A\u001b[A\u001b[A"
     ]
    },
    {
     "name": "stdout",
     "output_type": "stream",
     "text": [
      "Test\n",
      "MSE(x): 53.1999\n",
      "KL(w): 34744.8262\n",
      "KL(z): 20.8673\n",
      "-H(y): -0.4861\n",
      "BCE(y): 20.8673\n",
      "\n",
      "Epoch 5\n",
      "Train\n",
      "MSE(x): 50.4781\n",
      "KL(w): 31240.1526\n",
      "KL(z): 23.3257\n",
      "-H(y): -0.4696\n",
      "BCE(y): 23.3257\n"
     ]
    },
    {
     "name": "stderr",
     "output_type": "stream",
     "text": [
      "\n",
      "\n",
      "\n",
      "\n",
      "  0%|          | 6/2300 [00:40<4:18:22,  6.76s/it]\u001b[A\u001b[A\u001b[A\u001b[A"
     ]
    },
    {
     "name": "stdout",
     "output_type": "stream",
     "text": [
      "Test\n",
      "MSE(x): 49.6185\n",
      "KL(w): 27434.5673\n",
      "KL(z): 25.7802\n",
      "-H(y): -0.4607\n",
      "BCE(y): 25.7802\n",
      "\n",
      "Epoch 6\n",
      "Train\n",
      "MSE(x): 48.2918\n",
      "KL(w): 24838.6356\n",
      "KL(z): 28.3337\n",
      "-H(y): -0.4514\n",
      "BCE(y): 28.3337\n"
     ]
    },
    {
     "name": "stderr",
     "output_type": "stream",
     "text": [
      "\n",
      "\n",
      "\n",
      "\n",
      "  0%|          | 7/2300 [00:47<4:14:35,  6.66s/it]\u001b[A\u001b[A\u001b[A\u001b[A"
     ]
    },
    {
     "name": "stdout",
     "output_type": "stream",
     "text": [
      "Test\n",
      "MSE(x): 46.8540\n",
      "KL(w): 22005.9740\n",
      "KL(z): 30.8848\n",
      "-H(y): -0.4464\n",
      "BCE(y): 30.8848\n",
      "\n",
      "Epoch 7\n",
      "Train\n",
      "MSE(x): 46.4443\n",
      "KL(w): 20116.7534\n",
      "KL(z): 33.6179\n",
      "-H(y): -0.4396\n",
      "BCE(y): 33.6179\n"
     ]
    },
    {
     "name": "stderr",
     "output_type": "stream",
     "text": [
      "\n",
      "\n",
      "\n",
      "\n",
      "  0%|          | 8/2300 [00:54<4:25:45,  6.96s/it]\u001b[A\u001b[A\u001b[A\u001b[A"
     ]
    },
    {
     "name": "stdout",
     "output_type": "stream",
     "text": [
      "Test\n",
      "MSE(x): 44.9088\n",
      "KL(w): 17951.0205\n",
      "KL(z): 36.1878\n",
      "-H(y): -0.4399\n",
      "BCE(y): 36.1878\n",
      "\n",
      "Epoch 8\n",
      "Train\n",
      "MSE(x): 43.9380\n",
      "KL(w): 16533.4834\n",
      "KL(z): 39.2522\n",
      "-H(y): -0.4363\n",
      "BCE(y): 39.2522\n"
     ]
    },
    {
     "name": "stderr",
     "output_type": "stream",
     "text": [
      "\n",
      "\n",
      "\n",
      "\n",
      "  0%|          | 9/2300 [01:01<4:25:49,  6.96s/it]\u001b[A\u001b[A\u001b[A\u001b[A"
     ]
    },
    {
     "name": "stdout",
     "output_type": "stream",
     "text": [
      "Test\n",
      "MSE(x): 42.9295\n",
      "KL(w): 14853.9175\n",
      "KL(z): 42.1102\n",
      "-H(y): -0.4356\n",
      "BCE(y): 42.1102\n",
      "\n",
      "Epoch 9\n",
      "Train\n",
      "MSE(x): 42.0834\n",
      "KL(w): 14074.9691\n",
      "KL(z): 44.6641\n",
      "-H(y): -0.4354\n",
      "BCE(y): 44.6641\n"
     ]
    },
    {
     "name": "stderr",
     "output_type": "stream",
     "text": [
      "\n",
      "\n",
      "\n",
      "\n",
      "  0%|          | 10/2300 [01:08<4:18:08,  6.76s/it]\u001b[A\u001b[A\u001b[A\u001b[A"
     ]
    },
    {
     "name": "stdout",
     "output_type": "stream",
     "text": [
      "Test\n",
      "MSE(x): 41.4917\n",
      "KL(w): 13015.7752\n",
      "KL(z): 46.6767\n",
      "-H(y): -0.4347\n",
      "BCE(y): 46.6767\n",
      "\n",
      "Epoch 10\n",
      "Train\n",
      "MSE(x): 40.6040\n",
      "KL(w): 12328.9958\n",
      "KL(z): 49.1221\n",
      "-H(y): -0.4347\n",
      "BCE(y): 49.1221\n"
     ]
    },
    {
     "name": "stderr",
     "output_type": "stream",
     "text": [
      "\n",
      "\n",
      "\n",
      "\n",
      "  0%|          | 11/2300 [01:14<4:16:13,  6.72s/it]\u001b[A\u001b[A\u001b[A\u001b[A"
     ]
    },
    {
     "name": "stdout",
     "output_type": "stream",
     "text": [
      "Test\n",
      "MSE(x): 40.2879\n",
      "KL(w): 11398.8657\n",
      "KL(z): 51.2581\n",
      "-H(y): -0.4375\n",
      "BCE(y): 51.2581\n",
      "\n",
      "Epoch 11\n",
      "Train\n",
      "MSE(x): 39.8364\n",
      "KL(w): 10796.0845\n",
      "KL(z): 53.4557\n",
      "-H(y): -0.4359\n",
      "BCE(y): 53.4557\n"
     ]
    },
    {
     "name": "stderr",
     "output_type": "stream",
     "text": [
      "\n",
      "\n",
      "\n",
      "\n",
      "  1%|          | 12/2300 [01:21<4:12:43,  6.63s/it]\u001b[A\u001b[A\u001b[A\u001b[A"
     ]
    },
    {
     "name": "stdout",
     "output_type": "stream",
     "text": [
      "Test\n",
      "MSE(x): 39.1531\n",
      "KL(w): 9980.3081\n",
      "KL(z): 55.6881\n",
      "-H(y): -0.4355\n",
      "BCE(y): 55.6881\n",
      "\n",
      "Epoch 12\n",
      "Train\n",
      "MSE(x): 38.6351\n",
      "KL(w): 9457.7509\n",
      "KL(z): 58.1716\n",
      "-H(y): -0.4351\n",
      "BCE(y): 58.1716\n"
     ]
    },
    {
     "name": "stderr",
     "output_type": "stream",
     "text": [
      "\n",
      "\n",
      "\n",
      "\n",
      "  1%|          | 13/2300 [01:27<4:11:39,  6.60s/it]\u001b[A\u001b[A\u001b[A\u001b[A"
     ]
    },
    {
     "name": "stdout",
     "output_type": "stream",
     "text": [
      "Test\n",
      "MSE(x): 38.2204\n",
      "KL(w): 8743.0788\n",
      "KL(z): 60.5389\n",
      "-H(y): -0.4356\n",
      "BCE(y): 60.5389\n",
      "\n",
      "Epoch 13\n",
      "Train\n",
      "MSE(x): 37.1846\n",
      "KL(w): 8292.0216\n",
      "KL(z): 62.1424\n",
      "-H(y): -0.4351\n",
      "BCE(y): 62.1424\n"
     ]
    },
    {
     "name": "stderr",
     "output_type": "stream",
     "text": [
      "\n",
      "\n",
      "\n",
      "\n",
      "  1%|          | 14/2300 [01:35<4:20:53,  6.85s/it]\u001b[A\u001b[A\u001b[A\u001b[A"
     ]
    },
    {
     "name": "stdout",
     "output_type": "stream",
     "text": [
      "Test\n",
      "MSE(x): 37.1597\n",
      "KL(w): 7676.7133\n",
      "KL(z): 63.6600\n",
      "-H(y): -0.4364\n",
      "BCE(y): 63.6600\n",
      "\n",
      "Epoch 14\n",
      "Train\n",
      "MSE(x): 36.4899\n",
      "KL(w): 7274.9248\n",
      "KL(z): 64.2463\n",
      "-H(y): -0.4354\n",
      "BCE(y): 64.2463\n"
     ]
    },
    {
     "name": "stderr",
     "output_type": "stream",
     "text": [
      "\n",
      "\n",
      "\n",
      "\n",
      "  1%|          | 15/2300 [01:41<4:18:10,  6.78s/it]\u001b[A\u001b[A\u001b[A\u001b[A"
     ]
    },
    {
     "name": "stdout",
     "output_type": "stream",
     "text": [
      "Test\n",
      "MSE(x): 36.2684\n",
      "KL(w): 6733.8741\n",
      "KL(z): 64.1400\n",
      "-H(y): -0.4346\n",
      "BCE(y): 64.1400\n",
      "\n",
      "Epoch 15\n",
      "Train\n",
      "MSE(x): 35.8600\n",
      "KL(w): 6388.4375\n",
      "KL(z): 64.4236\n",
      "-H(y): -0.4340\n",
      "BCE(y): 64.4236\n"
     ]
    },
    {
     "name": "stderr",
     "output_type": "stream",
     "text": [
      "\n",
      "\n",
      "\n",
      "\n",
      "  1%|          | 16/2300 [01:48<4:19:05,  6.81s/it]\u001b[A\u001b[A\u001b[A\u001b[A"
     ]
    },
    {
     "name": "stdout",
     "output_type": "stream",
     "text": [
      "Test\n",
      "MSE(x): 35.3988\n",
      "KL(w): 5914.7740\n",
      "KL(z): 64.2903\n",
      "-H(y): -0.4320\n",
      "BCE(y): 64.2903\n",
      "\n",
      "Epoch 16\n",
      "Train\n",
      "MSE(x): 34.6772\n",
      "KL(w): 5615.5770\n",
      "KL(z): 64.5597\n",
      "-H(y): -0.4308\n",
      "BCE(y): 64.5597\n"
     ]
    },
    {
     "name": "stderr",
     "output_type": "stream",
     "text": [
      "\n",
      "\n",
      "\n",
      "\n",
      "  1%|          | 17/2300 [01:55<4:16:46,  6.75s/it]\u001b[A\u001b[A\u001b[A\u001b[A"
     ]
    },
    {
     "name": "stdout",
     "output_type": "stream",
     "text": [
      "Test\n",
      "MSE(x): 34.5318\n",
      "KL(w): 5200.7703\n",
      "KL(z): 65.0800\n",
      "-H(y): -0.4282\n",
      "BCE(y): 65.0800\n",
      "\n",
      "Epoch 17\n",
      "Train\n",
      "MSE(x): 33.9535\n",
      "KL(w): 4940.1758\n",
      "KL(z): 66.7412\n",
      "-H(y): -0.4272\n",
      "BCE(y): 66.7412\n"
     ]
    },
    {
     "name": "stderr",
     "output_type": "stream",
     "text": [
      "\n",
      "\n",
      "\n",
      "\n",
      "  1%|          | 18/2300 [02:01<4:09:02,  6.55s/it]\u001b[A\u001b[A\u001b[A\u001b[A"
     ]
    },
    {
     "name": "stdout",
     "output_type": "stream",
     "text": [
      "Test\n",
      "MSE(x): 33.7628\n",
      "KL(w): 4578.1824\n",
      "KL(z): 66.9671\n",
      "-H(y): -0.4253\n",
      "BCE(y): 66.9671\n",
      "\n",
      "Epoch 18\n",
      "Train\n",
      "MSE(x): 32.9765\n",
      "KL(w): 4351.4116\n",
      "KL(z): 68.4421\n",
      "-H(y): -0.4238\n",
      "BCE(y): 68.4421\n"
     ]
    },
    {
     "name": "stderr",
     "output_type": "stream",
     "text": [
      "\n",
      "\n",
      "\n",
      "\n",
      "  1%|          | 19/2300 [02:08<4:16:27,  6.75s/it]\u001b[A\u001b[A\u001b[A\u001b[A"
     ]
    },
    {
     "name": "stdout",
     "output_type": "stream",
     "text": [
      "Test\n",
      "MSE(x): 32.6092\n",
      "KL(w): 4033.7991\n",
      "KL(z): 68.9815\n",
      "-H(y): -0.4232\n",
      "BCE(y): 68.9815\n",
      "\n",
      "Epoch 19\n",
      "Train\n",
      "MSE(x): 31.8166\n",
      "KL(w): 3838.5059\n",
      "KL(z): 70.7708\n",
      "-H(y): -0.4221\n",
      "BCE(y): 70.7708\n"
     ]
    },
    {
     "name": "stderr",
     "output_type": "stream",
     "text": [
      "\n",
      "\n",
      "\n",
      "\n",
      "  1%|          | 20/2300 [02:15<4:21:40,  6.89s/it]\u001b[A\u001b[A\u001b[A\u001b[A"
     ]
    },
    {
     "name": "stdout",
     "output_type": "stream",
     "text": [
      "Test\n",
      "MSE(x): 31.6231\n",
      "KL(w): 3561.5549\n",
      "KL(z): 71.9657\n",
      "-H(y): -0.4193\n",
      "BCE(y): 71.9657\n",
      "\n",
      "Epoch 20\n",
      "Train\n",
      "MSE(x): 30.8355\n",
      "KL(w): 3389.1979\n",
      "KL(z): 73.5470\n",
      "-H(y): -0.4176\n",
      "BCE(y): 73.5470\n"
     ]
    },
    {
     "name": "stderr",
     "output_type": "stream",
     "text": [
      "\n",
      "\n",
      "\n",
      "\n",
      "  1%|          | 21/2300 [02:22<4:23:51,  6.95s/it]\u001b[A\u001b[A\u001b[A\u001b[A"
     ]
    },
    {
     "name": "stdout",
     "output_type": "stream",
     "text": [
      "Test\n",
      "MSE(x): 30.3927\n",
      "KL(w): 3146.6448\n",
      "KL(z): 75.5983\n",
      "-H(y): -0.4159\n",
      "BCE(y): 75.5983\n",
      "\n",
      "Epoch 21\n",
      "Train\n",
      "MSE(x): 29.6469\n",
      "KL(w): 2995.7753\n",
      "KL(z): 78.3025\n",
      "-H(y): -0.4151\n",
      "BCE(y): 78.3025\n"
     ]
    },
    {
     "name": "stderr",
     "output_type": "stream",
     "text": [
      "\n",
      "\n",
      "\n",
      "\n",
      "  1%|          | 22/2300 [02:29<4:17:38,  6.79s/it]\u001b[A\u001b[A\u001b[A\u001b[A"
     ]
    },
    {
     "name": "stdout",
     "output_type": "stream",
     "text": [
      "Test\n",
      "MSE(x): 29.1742\n",
      "KL(w): 2782.6852\n",
      "KL(z): 81.3125\n",
      "-H(y): -0.4130\n",
      "BCE(y): 81.3125\n",
      "\n",
      "Epoch 22\n",
      "Train\n",
      "MSE(x): 28.4111\n",
      "KL(w): 2650.8184\n",
      "KL(z): 85.6322\n",
      "-H(y): -0.4116\n",
      "BCE(y): 85.6322\n"
     ]
    },
    {
     "name": "stderr",
     "output_type": "stream",
     "text": [
      "\n",
      "\n",
      "\n",
      "\n",
      "  1%|          | 23/2300 [02:35<4:15:29,  6.73s/it]\u001b[A\u001b[A\u001b[A\u001b[A"
     ]
    },
    {
     "name": "stdout",
     "output_type": "stream",
     "text": [
      "Test\n",
      "MSE(x): 27.9454\n",
      "KL(w): 2461.5742\n",
      "KL(z): 90.6195\n",
      "-H(y): -0.4105\n",
      "BCE(y): 90.6195\n",
      "\n",
      "Epoch 23\n",
      "Train\n",
      "MSE(x): 26.9005\n",
      "KL(w): 2347.4717\n",
      "KL(z): 96.1649\n",
      "-H(y): -0.4094\n",
      "BCE(y): 96.1649\n"
     ]
    },
    {
     "name": "stderr",
     "output_type": "stream",
     "text": [
      "\n",
      "\n",
      "\n",
      "\n",
      "  1%|          | 24/2300 [02:42<4:10:16,  6.60s/it]\u001b[A\u001b[A\u001b[A\u001b[A"
     ]
    },
    {
     "name": "stdout",
     "output_type": "stream",
     "text": [
      "Test\n",
      "MSE(x): 26.6636\n",
      "KL(w): 2179.9537\n",
      "KL(z): 100.7002\n",
      "-H(y): -0.4080\n",
      "BCE(y): 100.7002\n",
      "\n",
      "Epoch 24\n",
      "Train\n",
      "MSE(x): 25.9742\n",
      "KL(w): 2079.7345\n",
      "KL(z): 105.5747\n",
      "-H(y): -0.4059\n",
      "BCE(y): 105.5747\n"
     ]
    },
    {
     "name": "stderr",
     "output_type": "stream",
     "text": [
      "\n",
      "\n",
      "\n",
      "\n",
      "  1%|          | 25/2300 [02:48<4:05:29,  6.47s/it]\u001b[A\u001b[A\u001b[A\u001b[A"
     ]
    },
    {
     "name": "stdout",
     "output_type": "stream",
     "text": [
      "Test\n",
      "MSE(x): 25.7588\n",
      "KL(w): 1933.5343\n",
      "KL(z): 108.3728\n",
      "-H(y): -0.4055\n",
      "BCE(y): 108.3728\n",
      "\n",
      "Epoch 25\n",
      "Train\n",
      "MSE(x): 25.2183\n",
      "KL(w): 1844.5465\n",
      "KL(z): 112.3087\n",
      "-H(y): -0.4053\n",
      "BCE(y): 112.3087\n"
     ]
    },
    {
     "name": "stderr",
     "output_type": "stream",
     "text": [
      "\n",
      "\n",
      "\n",
      "\n",
      "  1%|          | 26/2300 [02:55<4:12:08,  6.65s/it]\u001b[A\u001b[A\u001b[A\u001b[A"
     ]
    },
    {
     "name": "stdout",
     "output_type": "stream",
     "text": [
      "Test\n",
      "MSE(x): 25.1019\n",
      "KL(w): 1715.8460\n",
      "KL(z): 115.4623\n",
      "-H(y): -0.4041\n",
      "BCE(y): 115.4623\n",
      "\n",
      "Epoch 26\n",
      "Train\n",
      "MSE(x): 24.6651\n",
      "KL(w): 1636.4508\n",
      "KL(z): 117.5236\n",
      "-H(y): -0.4029\n",
      "BCE(y): 117.5236\n"
     ]
    },
    {
     "name": "stderr",
     "output_type": "stream",
     "text": [
      "\n",
      "\n",
      "\n",
      "\n",
      "  1%|          | 27/2300 [03:02<4:12:05,  6.65s/it]\u001b[A\u001b[A\u001b[A\u001b[A"
     ]
    },
    {
     "name": "stdout",
     "output_type": "stream",
     "text": [
      "Test\n",
      "MSE(x): 24.7129\n",
      "KL(w): 1520.8902\n",
      "KL(z): 117.2624\n",
      "-H(y): -0.4036\n",
      "BCE(y): 117.2624\n",
      "\n",
      "Epoch 27\n",
      "Train\n",
      "MSE(x): 24.2320\n",
      "KL(w): 1475.8650\n",
      "KL(z): 118.2488\n",
      "-H(y): -0.4029\n",
      "BCE(y): 118.2488\n"
     ]
    },
    {
     "name": "stderr",
     "output_type": "stream",
     "text": [
      "\n",
      "\n",
      "\n",
      "\n",
      "  1%|          | 28/2300 [03:09<4:15:21,  6.74s/it]\u001b[A\u001b[A\u001b[A\u001b[A"
     ]
    },
    {
     "name": "stdout",
     "output_type": "stream",
     "text": [
      "Test\n",
      "MSE(x): 24.5000\n",
      "KL(w): 1394.5529\n",
      "KL(z): 120.4022\n",
      "-H(y): -0.4022\n",
      "BCE(y): 120.4022\n",
      "\n",
      "Epoch 28\n",
      "Train\n",
      "MSE(x): 24.0304\n",
      "KL(w): 1350.2692\n",
      "KL(z): 122.0176\n",
      "-H(y): -0.4021\n",
      "BCE(y): 122.0176\n"
     ]
    },
    {
     "name": "stderr",
     "output_type": "stream",
     "text": [
      "\n",
      "\n",
      "\n",
      "\n",
      "  1%|▏         | 29/2300 [03:16<4:20:53,  6.89s/it]\u001b[A\u001b[A\u001b[A\u001b[A"
     ]
    },
    {
     "name": "stdout",
     "output_type": "stream",
     "text": [
      "Test\n",
      "MSE(x): 24.1897\n",
      "KL(w): 1273.8679\n",
      "KL(z): 122.4140\n",
      "-H(y): -0.4012\n",
      "BCE(y): 122.4140\n",
      "\n",
      "Epoch 29\n",
      "Train\n",
      "MSE(x): 23.8406\n",
      "KL(w): 1232.2312\n",
      "KL(z): 123.5336\n",
      "-H(y): -0.4015\n",
      "BCE(y): 123.5336\n"
     ]
    },
    {
     "name": "stderr",
     "output_type": "stream",
     "text": [
      "\n",
      "\n",
      "\n",
      "\n",
      "  1%|▏         | 30/2300 [03:23<4:25:12,  7.01s/it]\u001b[A\u001b[A\u001b[A\u001b[A"
     ]
    },
    {
     "name": "stdout",
     "output_type": "stream",
     "text": [
      "Test\n",
      "MSE(x): 23.9433\n",
      "KL(w): 1161.9984\n",
      "KL(z): 123.6124\n",
      "-H(y): -0.4014\n",
      "BCE(y): 123.6124\n",
      "\n",
      "Epoch 30\n",
      "Train\n",
      "MSE(x): 23.5852\n",
      "KL(w): 1122.4055\n",
      "KL(z): 125.0088\n",
      "-H(y): -0.4024\n",
      "BCE(y): 125.0088\n"
     ]
    },
    {
     "name": "stderr",
     "output_type": "stream",
     "text": [
      "\n",
      "\n",
      "\n",
      "\n",
      "  1%|▏         | 31/2300 [03:30<4:27:33,  7.08s/it]\u001b[A\u001b[A\u001b[A\u001b[A"
     ]
    },
    {
     "name": "stdout",
     "output_type": "stream",
     "text": [
      "Test\n",
      "MSE(x): 23.6824\n",
      "KL(w): 1056.1707\n",
      "KL(z): 125.2365\n",
      "-H(y): -0.4008\n",
      "BCE(y): 125.2365\n",
      "\n",
      "Epoch 31\n",
      "Train\n",
      "MSE(x): 23.2290\n",
      "KL(w): 1019.0572\n",
      "KL(z): 126.4020\n",
      "-H(y): -0.4011\n",
      "BCE(y): 126.4020\n"
     ]
    },
    {
     "name": "stderr",
     "output_type": "stream",
     "text": [
      "\n",
      "\n",
      "\n",
      "\n",
      "  1%|▏         | 32/2300 [03:38<4:31:38,  7.19s/it]\u001b[A\u001b[A\u001b[A\u001b[A"
     ]
    },
    {
     "name": "stdout",
     "output_type": "stream",
     "text": [
      "Test\n",
      "MSE(x): 23.5847\n",
      "KL(w): 957.5830\n",
      "KL(z): 126.3795\n",
      "-H(y): -0.4002\n",
      "BCE(y): 126.3795\n",
      "\n",
      "Epoch 32\n",
      "Train\n",
      "MSE(x): 23.2854\n",
      "KL(w): 923.4597\n",
      "KL(z): 127.9399\n",
      "-H(y): -0.4003\n",
      "BCE(y): 127.9399\n"
     ]
    },
    {
     "name": "stderr",
     "output_type": "stream",
     "text": [
      "\n",
      "\n",
      "\n",
      "\n",
      "  1%|▏         | 33/2300 [03:45<4:26:51,  7.06s/it]\u001b[A\u001b[A\u001b[A\u001b[A"
     ]
    },
    {
     "name": "stdout",
     "output_type": "stream",
     "text": [
      "Test\n",
      "MSE(x): 23.3615\n",
      "KL(w): 868.1503\n",
      "KL(z): 128.2512\n",
      "-H(y): -0.3997\n",
      "BCE(y): 128.2512\n",
      "\n",
      "Epoch 33\n",
      "Train\n",
      "MSE(x): 22.9942\n",
      "KL(w): 836.2812\n",
      "KL(z): 129.1741\n",
      "-H(y): -0.4004\n",
      "BCE(y): 129.1741\n"
     ]
    },
    {
     "name": "stderr",
     "output_type": "stream",
     "text": [
      "\n",
      "\n",
      "\n",
      "\n",
      "  1%|▏         | 34/2300 [03:51<4:23:45,  6.98s/it]\u001b[A\u001b[A\u001b[A\u001b[A"
     ]
    },
    {
     "name": "stdout",
     "output_type": "stream",
     "text": [
      "Test\n",
      "MSE(x): 23.1102\n",
      "KL(w): 784.7732\n",
      "KL(z): 129.0117\n",
      "-H(y): -0.3990\n",
      "BCE(y): 129.0117\n",
      "\n"
     ]
    },
    {
     "ename": "KeyboardInterrupt",
     "evalue": "",
     "output_type": "error",
     "traceback": [
      "\u001b[0;31m---------------------------------------------------------------------------\u001b[0m",
      "\u001b[0;31mKeyboardInterrupt\u001b[0m                         Traceback (most recent call last)",
      "\u001b[0;32m<ipython-input-75-254c33d133f0>\u001b[0m in \u001b[0;36m<module>\u001b[0;34m\u001b[0m\n\u001b[1;32m     22\u001b[0m \u001b[0;34m\u001b[0m\u001b[0m\n\u001b[1;32m     23\u001b[0m         \u001b[0mopt_without_delta\u001b[0m\u001b[0;34m.\u001b[0m\u001b[0mzero_grad\u001b[0m\u001b[0;34m(\u001b[0m\u001b[0;34m)\u001b[0m\u001b[0;34m\u001b[0m\u001b[0;34m\u001b[0m\u001b[0m\n\u001b[0;32m---> 24\u001b[0;31m         \u001b[0mloss_val\u001b[0m\u001b[0;34m.\u001b[0m\u001b[0mbackward\u001b[0m\u001b[0;34m(\u001b[0m\u001b[0;34m)\u001b[0m\u001b[0;34m\u001b[0m\u001b[0;34m\u001b[0m\u001b[0m\n\u001b[0m\u001b[1;32m     25\u001b[0m         \u001b[0mopt_without_delta\u001b[0m\u001b[0;34m.\u001b[0m\u001b[0mstep\u001b[0m\u001b[0;34m(\u001b[0m\u001b[0;34m)\u001b[0m\u001b[0;34m\u001b[0m\u001b[0;34m\u001b[0m\u001b[0m\n\u001b[1;32m     26\u001b[0m \u001b[0;34m\u001b[0m\u001b[0m\n",
      "\u001b[0;32m~/miniconda3/envs/myenv/lib/python3.7/site-packages/torch/tensor.py\u001b[0m in \u001b[0;36mbackward\u001b[0;34m(self, gradient, retain_graph, create_graph)\u001b[0m\n\u001b[1;32m    105\u001b[0m                 \u001b[0mproducts\u001b[0m\u001b[0;34m.\u001b[0m \u001b[0mDefaults\u001b[0m \u001b[0mto\u001b[0m\u001b[0;31m \u001b[0m\u001b[0;31m`\u001b[0m\u001b[0;31m`\u001b[0m\u001b[0;32mFalse\u001b[0m\u001b[0;31m`\u001b[0m\u001b[0;31m`\u001b[0m\u001b[0;34m.\u001b[0m\u001b[0;34m\u001b[0m\u001b[0;34m\u001b[0m\u001b[0m\n\u001b[1;32m    106\u001b[0m         \"\"\"\n\u001b[0;32m--> 107\u001b[0;31m         \u001b[0mtorch\u001b[0m\u001b[0;34m.\u001b[0m\u001b[0mautograd\u001b[0m\u001b[0;34m.\u001b[0m\u001b[0mbackward\u001b[0m\u001b[0;34m(\u001b[0m\u001b[0mself\u001b[0m\u001b[0;34m,\u001b[0m \u001b[0mgradient\u001b[0m\u001b[0;34m,\u001b[0m \u001b[0mretain_graph\u001b[0m\u001b[0;34m,\u001b[0m \u001b[0mcreate_graph\u001b[0m\u001b[0;34m)\u001b[0m\u001b[0;34m\u001b[0m\u001b[0;34m\u001b[0m\u001b[0m\n\u001b[0m\u001b[1;32m    108\u001b[0m \u001b[0;34m\u001b[0m\u001b[0m\n\u001b[1;32m    109\u001b[0m     \u001b[0;32mdef\u001b[0m \u001b[0mregister_hook\u001b[0m\u001b[0;34m(\u001b[0m\u001b[0mself\u001b[0m\u001b[0;34m,\u001b[0m \u001b[0mhook\u001b[0m\u001b[0;34m)\u001b[0m\u001b[0;34m:\u001b[0m\u001b[0;34m\u001b[0m\u001b[0;34m\u001b[0m\u001b[0m\n",
      "\u001b[0;32m~/miniconda3/envs/myenv/lib/python3.7/site-packages/torch/autograd/__init__.py\u001b[0m in \u001b[0;36mbackward\u001b[0;34m(tensors, grad_tensors, retain_graph, create_graph, grad_variables)\u001b[0m\n\u001b[1;32m     91\u001b[0m     Variable._execution_engine.run_backward(\n\u001b[1;32m     92\u001b[0m         \u001b[0mtensors\u001b[0m\u001b[0;34m,\u001b[0m \u001b[0mgrad_tensors\u001b[0m\u001b[0;34m,\u001b[0m \u001b[0mretain_graph\u001b[0m\u001b[0;34m,\u001b[0m \u001b[0mcreate_graph\u001b[0m\u001b[0;34m,\u001b[0m\u001b[0;34m\u001b[0m\u001b[0;34m\u001b[0m\u001b[0m\n\u001b[0;32m---> 93\u001b[0;31m         allow_unreachable=True)  # allow_unreachable flag\n\u001b[0m\u001b[1;32m     94\u001b[0m \u001b[0;34m\u001b[0m\u001b[0m\n\u001b[1;32m     95\u001b[0m \u001b[0;34m\u001b[0m\u001b[0m\n",
      "\u001b[0;31mKeyboardInterrupt\u001b[0m: "
     ]
    }
   ],
   "source": [
    "train_x_recon_losses = []\n",
    "train_w_kl_losses = []\n",
    "train_z_kl_losses = []\n",
    "train_y_negentropy_losses = []\n",
    "train_y_recon_losses = []\n",
    "\n",
    "test_x_recon_losses = []\n",
    "test_w_kl_losses = []\n",
    "test_z_kl_losses = []\n",
    "test_y_negentropy_losses = []\n",
    "test_y_recon_losses = []\n",
    "\n",
    "for epoch_i in trange(n_epochs):\n",
    "    for cur_batch in train_loader:\n",
    "        loss_val, x_recon_loss_val, w_kl_loss_val, z_kl_loss_val, y_negentropy_loss_val, y_recon_loss_val = model.calculate_loss(*cur_batch)\n",
    "        \n",
    "        # optimization could be done more precisely but less efficiently by only updating delta or other params on a batch\n",
    "        \n",
    "        opt_delta.zero_grad()\n",
    "        y_recon_loss_val.backward(retain_graph=True)\n",
    "        opt_delta.step()\n",
    "        \n",
    "        opt_without_delta.zero_grad()\n",
    "        loss_val.backward()\n",
    "        opt_without_delta.step()\n",
    "        \n",
    "        train_x_recon_losses.append(x_recon_loss_val.item())\n",
    "        train_w_kl_losses.append(w_kl_loss_val.item())\n",
    "        train_z_kl_losses.append(z_kl_loss_val.item())\n",
    "        train_y_negentropy_losses.append(y_negentropy_loss_val.item())\n",
    "        train_y_recon_losses.append(y_recon_loss_val.item())\n",
    "    scheduler_without_delta.step()\n",
    "    scheduler_delta.step()\n",
    "    print(f'Epoch {epoch_i}')\n",
    "    \n",
    "    print('Train')\n",
    "    print(f'MSE(x): {np.array(train_x_recon_losses[-len(train_loader):]).mean():.4f}')\n",
    "    print(f'KL(w): {np.array(train_w_kl_losses[-len(train_loader):]).mean():.4f}')\n",
    "    print(f'KL(z): {np.array(train_z_kl_losses[-len(train_loader):]).mean():.4f}')\n",
    "    print(f'-H(y): {np.array(train_y_negentropy_losses[-len(train_loader):]).mean():.4f}')\n",
    "    print(f'BCE(y): {np.array(train_z_kl_losses[-len(train_loader):]).mean():.4f}')\n",
    "    \n",
    "    for cur_batch in test_loader:\n",
    "        loss_val, x_recon_loss_val, w_kl_loss_val, z_kl_loss_val, y_negentropy_loss_val, y_recon_loss_val = model.calculate_loss(*cur_batch)\n",
    "        \n",
    "        test_x_recon_losses.append(x_recon_loss_val.item())\n",
    "        test_w_kl_losses.append(w_kl_loss_val.item())\n",
    "        test_z_kl_losses.append(z_kl_loss_val.item())\n",
    "        test_y_negentropy_losses.append(y_negentropy_loss_val.item())\n",
    "        test_y_recon_losses.append(y_recon_loss_val.item())\n",
    "        \n",
    "    print('Test')\n",
    "    print(f'MSE(x): {np.array(test_x_recon_losses[-len(train_loader):]).mean():.4f}')\n",
    "    print(f'KL(w): {np.array(test_w_kl_losses[-len(train_loader):]).mean():.4f}')\n",
    "    print(f'KL(z): {np.array(test_z_kl_losses[-len(train_loader):]).mean():.4f}')\n",
    "    print(f'-H(y): {np.array(test_y_negentropy_losses[-len(train_loader):]).mean():.4f}')\n",
    "    print(f'BCE(y): {np.array(test_z_kl_losses[-len(train_loader):]).mean():.4f}')\n",
    "    \n",
    "    print()"
   ]
  },
  {
   "cell_type": "code",
   "execution_count": null,
   "metadata": {},
   "outputs": [],
   "source": []
  },
  {
   "cell_type": "code",
   "execution_count": 236,
   "metadata": {},
   "outputs": [],
   "source": []
  },
  {
   "cell_type": "code",
   "execution_count": null,
   "metadata": {},
   "outputs": [],
   "source": [
    "x_test, manifold_x_test = make_swiss_roll(n_samples=10000)\n",
    "x_test = x_test.astype(np.float32)\n",
    "test_set_tensor = torch.from_numpy(x_test)\n",
    "# mu_x, logvar_x, z_hat, mu_z, logvar_z = model.forward(test_set_tensor)\n",
    "\n",
    "# labels_test = (x_test[:, 0:1] >= 10)\n",
    "# colors_test = ['red' if label[0] else 'blue' for label in labels_test]\n",
    "\n",
    "# z_hat = z_hat.detach().numpy()\n",
    "# z_comp = z_hat[:, :2]\n",
    "# w_comp = z_hat[:, 2:]"
   ]
  },
  {
   "cell_type": "code",
   "execution_count": null,
   "metadata": {},
   "outputs": [],
   "source": [
    "x_test, manifold_x_test = make_swiss_roll(n_samples=10000)"
   ]
  },
  {
   "cell_type": "code",
   "execution_count": null,
   "metadata": {},
   "outputs": [],
   "source": [
    "# Usual VAE results\n",
    "\n",
    "plt.figure(figsize=(5, 5,))\n",
    "plt.title('(z1, z2)')\n",
    "plt.scatter(z_comp[:, 0], z_comp[:, 1], c=colors_test)\n",
    "\n",
    "plt.figure(figsize=(5, 5,))\n",
    "plt.title('(z2, w1)')\n",
    "plt.scatter(z_comp[:, 1], w_comp[:, 0], c=colors_test)\n",
    "\n",
    "plt.figure(figsize=(5, 5,))\n",
    "plt.title('(w1, w2)')\n",
    "plt.scatter(w_comp[:, 0], w_comp[:, 1], c=colors_test)\n",
    "\n",
    "plt.figure(figsize=(5, 5,))\n",
    "plt.title('(w2, z1)')\n",
    "plt.scatter(w_comp[:, 1], w_comp[:, 0], c=colors_test)"
   ]
  },
  {
   "cell_type": "code",
   "execution_count": null,
   "metadata": {},
   "outputs": [],
   "source": []
  },
  {
   "cell_type": "code",
   "execution_count": null,
   "metadata": {},
   "outputs": [],
   "source": []
  },
  {
   "cell_type": "code",
   "execution_count": null,
   "metadata": {},
   "outputs": [],
   "source": []
  },
  {
   "cell_type": "code",
   "execution_count": null,
   "metadata": {},
   "outputs": [],
   "source": []
  }
 ],
 "metadata": {
  "kernelspec": {
   "display_name": "Python 3",
   "language": "python",
   "name": "python3"
  },
  "language_info": {
   "codemirror_mode": {
    "name": "ipython",
    "version": 3
   },
   "file_extension": ".py",
   "mimetype": "text/x-python",
   "name": "python",
   "nbconvert_exporter": "python",
   "pygments_lexer": "ipython3",
   "version": "3.7.4"
  }
 },
 "nbformat": 4,
 "nbformat_minor": 4
}
